{
  "nbformat": 4,
  "nbformat_minor": 0,
  "metadata": {
    "colab": {
      "name": "lab-1.ipynb",
      "provenance": [],
      "collapsed_sections": []
    },
    "kernelspec": {
      "name": "python3",
      "display_name": "Python 3"
    },
    "language_info": {
      "name": "python"
    }
  },
  "cells": [
    {
      "cell_type": "code",
      "execution_count": null,
      "metadata": {
        "id": "8Yer62OkLE4u"
      },
      "outputs": [],
      "source": [
        "a=3\n",
        "print (a)\n"
      ]
    },
    {
      "cell_type": "code",
      "source": [
        "Emp_name = \"Smith\"\n",
        "age = 30\n",
        "weight = 65.5\n"
      ],
      "metadata": {
        "id": "toRl-lvqPcYD"
      },
      "execution_count": null,
      "outputs": []
    },
    {
      "cell_type": "code",
      "source": [
        "type(Emp_name)\n",
        "type(age)\n",
        "type(weight)"
      ],
      "metadata": {
        "colab": {
          "base_uri": "https://localhost:8080/"
        },
        "id": "3TQgzQ6kRK-E",
        "outputId": "dc552b1a-6cb8-4e1a-bf57-7f5524376cd9"
      },
      "execution_count": null,
      "outputs": [
        {
          "output_type": "execute_result",
          "data": {
            "text/plain": [
              "float"
            ]
          },
          "metadata": {},
          "execution_count": 3
        }
      ]
    },
    {
      "cell_type": "code",
      "source": [
        "type(age)"
      ],
      "metadata": {
        "colab": {
          "base_uri": "https://localhost:8080/"
        },
        "id": "_RNZWIbJRSTj",
        "outputId": "7a2fff3b-9e4a-4ad9-be71-019caccfb152"
      },
      "execution_count": null,
      "outputs": [
        {
          "output_type": "execute_result",
          "data": {
            "text/plain": [
              "int"
            ]
          },
          "metadata": {},
          "execution_count": 4
        }
      ]
    },
    {
      "cell_type": "code",
      "source": [
        "weight = int(weight)\n",
        "type(weight)"
      ],
      "metadata": {
        "colab": {
          "base_uri": "https://localhost:8080/"
        },
        "id": "YTrJWgjsRY41",
        "outputId": "e0ef69b3-7ffc-4320-b3b4-21963d2618c5"
      },
      "execution_count": null,
      "outputs": [
        {
          "output_type": "execute_result",
          "data": {
            "text/plain": [
              "int"
            ]
          },
          "metadata": {},
          "execution_count": 7
        }
      ]
    },
    {
      "cell_type": "code",
      "source": [
        "a = int(input(\"enter a number\"))\n",
        "a = a + 10\n",
        "a"
      ],
      "metadata": {
        "colab": {
          "base_uri": "https://localhost:8080/"
        },
        "id": "HMYbY5ZySSsJ",
        "outputId": "b4e132d3-615b-4e80-fb59-a5d3071c50df"
      },
      "execution_count": null,
      "outputs": [
        {
          "name": "stdout",
          "output_type": "stream",
          "text": [
            "enter a number20\n"
          ]
        },
        {
          "output_type": "execute_result",
          "data": {
            "text/plain": [
              "30"
            ]
          },
          "metadata": {},
          "execution_count": 8
        }
      ]
    },
    {
      "cell_type": "code",
      "source": [
        "a = 2\n",
        "b = 4\n",
        "print(\"a is\", a,\"b is\", b)"
      ],
      "metadata": {
        "colab": {
          "base_uri": "https://localhost:8080/"
        },
        "id": "2OvW4EYzVA6-",
        "outputId": "032c2566-8706-4206-e07c-949466b76745"
      },
      "execution_count": null,
      "outputs": [
        {
          "output_type": "stream",
          "name": "stdout",
          "text": [
            "a is 2 b is 4\n"
          ]
        }
      ]
    },
    {
      "cell_type": "code",
      "source": [
        "name = input(\"enter name\")\n",
        "name"
      ],
      "metadata": {
        "colab": {
          "base_uri": "https://localhost:8080/",
          "height": 52
        },
        "id": "_qHENYl8VK3J",
        "outputId": "e352b470-cd4d-4c6e-efd9-4b0f0707bfcd"
      },
      "execution_count": null,
      "outputs": [
        {
          "name": "stdout",
          "output_type": "stream",
          "text": [
            "enter nameishan\n"
          ]
        },
        {
          "output_type": "execute_result",
          "data": {
            "application/vnd.google.colaboratory.intrinsic+json": {
              "type": "string"
            },
            "text/plain": [
              "'ishan'"
            ]
          },
          "metadata": {},
          "execution_count": 10
        }
      ]
    },
    {
      "cell_type": "code",
      "source": [
        "a = 4\n",
        "b = 5\n",
        "if(a!=b):\n",
        "  a = a + b\n",
        "  print (a)"
      ],
      "metadata": {
        "colab": {
          "base_uri": "https://localhost:8080/"
        },
        "id": "9AfgZypSVX67",
        "outputId": "fd3ccb8c-c9a1-4bee-e704-f9f20ec35caa"
      },
      "execution_count": null,
      "outputs": [
        {
          "output_type": "stream",
          "name": "stdout",
          "text": [
            "9\n"
          ]
        }
      ]
    },
    {
      "cell_type": "code",
      "source": [
        "a = 5\n",
        "b = 5\n",
        "if(a!=b):\n",
        "  a = a + b\n",
        "  print (a)\n",
        "else:\n",
        "  b = b + 10\n",
        "  print(b)\n"
      ],
      "metadata": {
        "colab": {
          "base_uri": "https://localhost:8080/"
        },
        "id": "4UD12qqsWhM9",
        "outputId": "625fec26-359c-4130-b05e-0b4e98313632"
      },
      "execution_count": null,
      "outputs": [
        {
          "output_type": "stream",
          "name": "stdout",
          "text": [
            "15\n"
          ]
        }
      ]
    },
    {
      "cell_type": "code",
      "source": [
        "a = input(\"enter name \")\n",
        "if (a == \"ishan\"):\n",
        "  print(\"Good\")\n",
        "elif ( a == \"dhaval\"):\n",
        "  print(\"V.Good\")\n",
        "elif(a == \"bacchhii\"):\n",
        "  print(\"Worst\")\n",
        "else:\n",
        "  print(\"bye bye!\")"
      ],
      "metadata": {
        "colab": {
          "base_uri": "https://localhost:8080/"
        },
        "id": "3dovyupjWu1m",
        "outputId": "398f22e0-df0f-40ad-8f5d-ee9438e2fec4"
      },
      "execution_count": null,
      "outputs": [
        {
          "output_type": "stream",
          "name": "stdout",
          "text": [
            "enter name yep\n",
            "bye bye!\n"
          ]
        }
      ]
    },
    {
      "cell_type": "code",
      "source": [
        "n = 5\n",
        "i = 0\n",
        "while (i < 5):\n",
        "  print(\"ishan\")\n",
        "  i = i + 1"
      ],
      "metadata": {
        "colab": {
          "base_uri": "https://localhost:8080/"
        },
        "id": "xCdZ2cwEZ73S",
        "outputId": "b967b921-7957-4ec1-facf-1ddfbd9c3ded"
      },
      "execution_count": null,
      "outputs": [
        {
          "output_type": "stream",
          "name": "stdout",
          "text": [
            "ishan\n",
            "ishan\n",
            "ishan\n",
            "ishan\n",
            "ishan\n"
          ]
        }
      ]
    },
    {
      "cell_type": "code",
      "source": [
        "for i in range(20,2000,63):\n",
        "  print(i)"
      ],
      "metadata": {
        "colab": {
          "base_uri": "https://localhost:8080/"
        },
        "id": "5_sFcQEdbKtl",
        "outputId": "ee9bd688-1ac7-49c9-cf16-67c0c5c1010f"
      },
      "execution_count": null,
      "outputs": [
        {
          "output_type": "stream",
          "name": "stdout",
          "text": [
            "20\n",
            "83\n",
            "146\n",
            "209\n",
            "272\n",
            "335\n",
            "398\n",
            "461\n",
            "524\n",
            "587\n",
            "650\n",
            "713\n",
            "776\n",
            "839\n",
            "902\n",
            "965\n",
            "1028\n",
            "1091\n",
            "1154\n",
            "1217\n",
            "1280\n",
            "1343\n",
            "1406\n",
            "1469\n",
            "1532\n",
            "1595\n",
            "1658\n",
            "1721\n",
            "1784\n",
            "1847\n",
            "1910\n",
            "1973\n"
          ]
        }
      ]
    },
    {
      "cell_type": "code",
      "source": [
        "name = input(\"enter name\")\n",
        "marks = int(input(\"enter marks\"))\n",
        "if (marks>=95):\n",
        "  print(\"Grade A\")\n",
        "elif (marks>=80):\n",
        "  print(\"Grade B\")\n",
        "elif (marks>=70):\n",
        "  print(\"Grade C\")\n",
        "elif (marks>=50):\n",
        "  print(\"Grade D\")\n",
        "elif (marks>=35):\n",
        "  print(\"Grade E\")\n",
        "else:\n",
        "  print (\"Grade F\")"
      ],
      "metadata": {
        "colab": {
          "base_uri": "https://localhost:8080/"
        },
        "id": "FLnKdnMQdOlJ",
        "outputId": "3f218a9b-2bb7-492d-b562-6c58b0f30aa0"
      },
      "execution_count": null,
      "outputs": [
        {
          "output_type": "stream",
          "name": "stdout",
          "text": [
            "enter nameishan\n",
            "enter marks75\n",
            "Grade C\n"
          ]
        }
      ]
    },
    {
      "cell_type": "code",
      "source": [
        "a = int(input(\"enter n1\"))\n",
        "b = int(input(\"enter n2\"))\n",
        "c = int(input(\"enter op, press 1 for add, press 2 for sub\"))\n",
        "\n",
        "if c == 1:\n",
        "  print(\"add is \",a+b)\n",
        "elif c == 2:\n",
        "  print(\"sub is \", a-b)"
      ],
      "metadata": {
        "colab": {
          "base_uri": "https://localhost:8080/"
        },
        "id": "lXoKqUQIeap8",
        "outputId": "4bfac50c-c1ba-428e-e5cf-343047ce0d32"
      },
      "execution_count": null,
      "outputs": [
        {
          "output_type": "stream",
          "name": "stdout",
          "text": [
            "enter n15\n",
            "enter n26\n",
            "enter op, press 1 for add1\n",
            "add is  11\n"
          ]
        }
      ]
    },
    {
      "cell_type": "code",
      "source": [
        "for i in range(1,5):\n",
        "  if i == 3:\n",
        "    break\n",
        "  print(\"i=\",i)"
      ],
      "metadata": {
        "colab": {
          "base_uri": "https://localhost:8080/"
        },
        "id": "GtTJ5HlvP1Bl",
        "outputId": "90596e48-cf42-4b7f-e179-3d15aba05317"
      },
      "execution_count": null,
      "outputs": [
        {
          "output_type": "stream",
          "name": "stdout",
          "text": [
            "i= 1\n",
            "i= 2\n"
          ]
        }
      ]
    },
    {
      "cell_type": "code",
      "source": [
        "for i in range(1,6):\n",
        "  for j in range(i):\n",
        "    print(i, end=\" \")\n",
        "  print(\"\")"
      ],
      "metadata": {
        "colab": {
          "base_uri": "https://localhost:8080/"
        },
        "id": "PU40d9_LQtOk",
        "outputId": "615f3942-18c8-456e-ac60-5f603142dfd3"
      },
      "execution_count": null,
      "outputs": [
        {
          "output_type": "stream",
          "name": "stdout",
          "text": [
            "1 \n",
            "2 2 \n",
            "3 3 3 \n",
            "4 4 4 4 \n",
            "5 5 5 5 5 \n"
          ]
        }
      ]
    },
    {
      "cell_type": "code",
      "source": [
        "\n",
        "for i in range(1,100):\n",
        "  if (i % 15 == 0 ):\n",
        "    print(\"fizzbuzz\")\n",
        "  elif (i % 3 == 0):\n",
        "    print(\"fizz\")\n",
        "  elif ( i % 5 == 0):\n",
        "    print(\"buzz\")\n",
        "  else:\n",
        "    print(i)"
      ],
      "metadata": {
        "colab": {
          "base_uri": "https://localhost:8080/"
        },
        "id": "v35eDCs8Ti4a",
        "outputId": "fc4e1bf0-02bb-40ce-9bf0-1db9c09bb294"
      },
      "execution_count": null,
      "outputs": [
        {
          "output_type": "stream",
          "name": "stdout",
          "text": [
            "1\n",
            "2\n",
            "fizz\n",
            "4\n",
            "buzz\n",
            "fizz\n",
            "7\n",
            "8\n",
            "fizz\n",
            "buzz\n",
            "11\n",
            "fizz\n",
            "13\n",
            "14\n",
            "fizzbuzz\n",
            "16\n",
            "17\n",
            "fizz\n",
            "19\n",
            "buzz\n",
            "fizz\n",
            "22\n",
            "23\n",
            "fizz\n",
            "buzz\n",
            "26\n",
            "fizz\n",
            "28\n",
            "29\n",
            "fizzbuzz\n",
            "31\n",
            "32\n",
            "fizz\n",
            "34\n",
            "buzz\n",
            "fizz\n",
            "37\n",
            "38\n",
            "fizz\n",
            "buzz\n",
            "41\n",
            "fizz\n",
            "43\n",
            "44\n",
            "fizzbuzz\n",
            "46\n",
            "47\n",
            "fizz\n",
            "49\n",
            "buzz\n",
            "fizz\n",
            "52\n",
            "53\n",
            "fizz\n",
            "buzz\n",
            "56\n",
            "fizz\n",
            "58\n",
            "59\n",
            "fizzbuzz\n",
            "61\n",
            "62\n",
            "fizz\n",
            "64\n",
            "buzz\n",
            "fizz\n",
            "67\n",
            "68\n",
            "fizz\n",
            "buzz\n",
            "71\n",
            "fizz\n",
            "73\n",
            "74\n",
            "fizzbuzz\n",
            "76\n",
            "77\n",
            "fizz\n",
            "79\n",
            "buzz\n",
            "fizz\n",
            "82\n",
            "83\n",
            "fizz\n",
            "buzz\n",
            "86\n",
            "fizz\n",
            "88\n",
            "89\n",
            "fizzbuzz\n",
            "91\n",
            "92\n",
            "fizz\n",
            "94\n",
            "buzz\n",
            "fizz\n",
            "97\n",
            "98\n",
            "fizz\n"
          ]
        }
      ]
    },
    {
      "cell_type": "code",
      "source": [
        "a = int(input(\"enter a number\"))\n",
        "sum = 0\n",
        "while(a>0):\n",
        "  sum = sum + int(a%10)\n",
        "  a = a//10\n",
        "print(sum)"
      ],
      "metadata": {
        "colab": {
          "base_uri": "https://localhost:8080/"
        },
        "id": "FSDL-EH2WiTw",
        "outputId": "ded5c6a0-4b5d-4340-9438-01b2f441e7b2"
      },
      "execution_count": null,
      "outputs": [
        {
          "output_type": "stream",
          "name": "stdout",
          "text": [
            "enter a number2456\n",
            "17\n"
          ]
        }
      ]
    },
    {
      "cell_type": "code",
      "source": [
        "import random\n",
        "\n",
        "l = int(input(\"enter lower number\"))\n",
        "h = int(input(\"enter higher number\"))\n",
        "\n",
        "a = random.randint(l,h)\n",
        "\n",
        "while(1):\n",
        "  b = int(input(\"guess the number\"))\n",
        "  if (b == a):\n",
        "    print (\"right\")\n",
        "    break\n",
        "  elif (b < a):\n",
        "    print(\"low\")\n",
        "  elif (b > a):\n",
        "    print(\"high\")  \n",
        "\n"
      ],
      "metadata": {
        "colab": {
          "base_uri": "https://localhost:8080/"
        },
        "id": "4JIEQkAsX5aH",
        "outputId": "e8109a27-6437-4f43-9d0a-db67050a41d2"
      },
      "execution_count": null,
      "outputs": [
        {
          "output_type": "stream",
          "name": "stdout",
          "text": [
            "enter lower number4\n",
            "enter higher number10\n",
            "guess the number6\n",
            "low\n",
            "guess the number8\n",
            "high\n",
            "guess the number7\n",
            "right\n"
          ]
        }
      ]
    },
    {
      "cell_type": "code",
      "source": [
        "import random\n",
        "level=1\n",
        "i=1\n",
        "chance = 5\n",
        "while(1):\n",
        "  a = random.randint(level,level*10-1)\n",
        "  b = random.randint(level,level*10-1)\n",
        "  print(\"your level is:\", i)\n",
        "  print (\"enter answer of\", a ,\"+\", b)\n",
        "  ans = int(input())\n",
        "  if (ans == a+b):\n",
        "    level = level*10\n",
        "    i = i+1\n",
        "    chance=5\n",
        "  else:\n",
        "    if(chance<1):\n",
        "      break\n",
        "    a = random.randint(level,level*10-1)\n",
        "    b = random.randint(level,level*10-1)\n",
        "    chance=chance-1\n",
        "    print(\"wrong ans\")\n"
      ],
      "metadata": {
        "colab": {
          "base_uri": "https://localhost:8080/"
        },
        "id": "SaIDb5TGcP18",
        "outputId": "14e3a588-8fc7-466c-c3d4-2cf39e037287"
      },
      "execution_count": null,
      "outputs": [
        {
          "name": "stdout",
          "output_type": "stream",
          "text": [
            "your level is: 1\n",
            "enter answer of 3 + 6\n",
            "4\n",
            "wrong ans\n",
            "your level is: 1\n",
            "enter answer of 9 + 7\n",
            "3\n",
            "wrong ans\n",
            "your level is: 1\n",
            "enter answer of 6 + 6\n",
            "4\n",
            "wrong ans\n",
            "your level is: 1\n",
            "enter answer of 1 + 4\n",
            "3\n"
          ]
        }
      ]
    },
    {
      "cell_type": "code",
      "source": [
        ""
      ],
      "metadata": {
        "id": "ozQzkq2Ahs_d"
      },
      "execution_count": null,
      "outputs": []
    }
  ]
}