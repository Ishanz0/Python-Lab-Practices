{
  "nbformat": 4,
  "nbformat_minor": 0,
  "metadata": {
    "colab": {
      "name": "lab-4.ipynb",
      "provenance": []
    },
    "kernelspec": {
      "name": "python3",
      "display_name": "Python 3"
    },
    "language_info": {
      "name": "python"
    }
  },
  "cells": [
    {
      "cell_type": "code",
      "execution_count": null,
      "metadata": {
        "colab": {
          "base_uri": "https://localhost:8080/"
        },
        "id": "Awlhn22qtzLo",
        "outputId": "1dd18e8e-9e1b-4282-aebf-e09cb99d2b6d"
      },
      "outputs": [
        {
          "output_type": "execute_result",
          "data": {
            "text/plain": [
              "{'apple': 'red', 'mango': 'yellow', 'orange': 'orange'}"
            ]
          },
          "metadata": {},
          "execution_count": 3
        }
      ],
      "source": [
        "f={\"apple\":\"red\",\"orange\":\"orange\",\"mango\":\"yellow\"}\n",
        "f"
      ]
    },
    {
      "cell_type": "code",
      "source": [
        "f[\"apple\"]"
      ],
      "metadata": {
        "colab": {
          "base_uri": "https://localhost:8080/",
          "height": 35
        },
        "id": "nw3jEJfbuhX9",
        "outputId": "1c6bcc4d-996b-400d-8ba8-b86d4290d4ac"
      },
      "execution_count": null,
      "outputs": [
        {
          "output_type": "execute_result",
          "data": {
            "application/vnd.google.colaboratory.intrinsic+json": {
              "type": "string"
            },
            "text/plain": [
              "'red'"
            ]
          },
          "metadata": {},
          "execution_count": 5
        }
      ]
    },
    {
      "cell_type": "code",
      "source": [
        "f[\"apple\":\"mango\"]"
      ],
      "metadata": {
        "colab": {
          "base_uri": "https://localhost:8080/",
          "height": 166
        },
        "id": "uQ9uLa2BuoPa",
        "outputId": "39c634d1-5728-46e3-e863-0e4a20d45993"
      },
      "execution_count": null,
      "outputs": [
        {
          "output_type": "error",
          "ename": "TypeError",
          "evalue": "ignored",
          "traceback": [
            "\u001b[0;31m---------------------------------------------------------------------------\u001b[0m",
            "\u001b[0;31mTypeError\u001b[0m                                 Traceback (most recent call last)",
            "\u001b[0;32m<ipython-input-6-68d3f639da1b>\u001b[0m in \u001b[0;36m<module>\u001b[0;34m()\u001b[0m\n\u001b[0;32m----> 1\u001b[0;31m \u001b[0mf\u001b[0m\u001b[0;34m[\u001b[0m\u001b[0;34m\"apple\"\u001b[0m\u001b[0;34m:\u001b[0m\u001b[0;34m\"mango\"\u001b[0m\u001b[0;34m]\u001b[0m\u001b[0;34m\u001b[0m\u001b[0;34m\u001b[0m\u001b[0m\n\u001b[0m",
            "\u001b[0;31mTypeError\u001b[0m: unhashable type: 'slice'"
          ]
        }
      ]
    },
    {
      "cell_type": "code",
      "source": [
        "f[\"kiwi\"]=\"green\"\n",
        "f"
      ],
      "metadata": {
        "colab": {
          "base_uri": "https://localhost:8080/"
        },
        "id": "zBdNBi1tvGT3",
        "outputId": "7ef85e5a-aaba-473c-b44a-537593687d38"
      },
      "execution_count": null,
      "outputs": [
        {
          "output_type": "execute_result",
          "data": {
            "text/plain": [
              "{'apple': 'red', 'kiwi': 'green', 'mango': 'yellow', 'orange': 'orange'}"
            ]
          },
          "metadata": {},
          "execution_count": 8
        }
      ]
    },
    {
      "cell_type": "code",
      "source": [
        "f = {\"kiwi\":\"red\",\"orange\":\"orange\",\"mango\":\"yellow\"}\n",
        "f"
      ],
      "metadata": {
        "colab": {
          "base_uri": "https://localhost:8080/"
        },
        "id": "pXTc9DPDwLl_",
        "outputId": "16bbb004-d146-4675-90d8-fa414f01fe87"
      },
      "execution_count": null,
      "outputs": [
        {
          "output_type": "execute_result",
          "data": {
            "text/plain": [
              "{'kiwi': 'red', 'mango': 'yellow', 'orange': 'orange'}"
            ]
          },
          "metadata": {},
          "execution_count": 4
        }
      ]
    },
    {
      "cell_type": "code",
      "source": [
        "f.items()"
      ],
      "metadata": {
        "colab": {
          "base_uri": "https://localhost:8080/"
        },
        "id": "5nHaT1zxwaN_",
        "outputId": "21730ebe-f540-495f-db41-06f71b16ea12"
      },
      "execution_count": null,
      "outputs": [
        {
          "output_type": "execute_result",
          "data": {
            "text/plain": [
              "dict_items([('kiwi', 'red'), ('orange', 'orange'), ('mango', 'yellow')])"
            ]
          },
          "metadata": {},
          "execution_count": 6
        }
      ]
    },
    {
      "cell_type": "code",
      "source": [
        "for i in f:\n",
        "  print(i)\n",
        "  "
      ],
      "metadata": {
        "colab": {
          "base_uri": "https://localhost:8080/"
        },
        "id": "7Z5kqw2kwg5T",
        "outputId": "687db0bf-2a85-44fa-d450-ce7f67d46314"
      },
      "execution_count": null,
      "outputs": [
        {
          "output_type": "stream",
          "name": "stdout",
          "text": [
            "kiwi\n",
            "orange\n",
            "mango\n"
          ]
        }
      ]
    },
    {
      "cell_type": "code",
      "source": [
        "for i in f.values():\n",
        "  print(i)"
      ],
      "metadata": {
        "colab": {
          "base_uri": "https://localhost:8080/"
        },
        "id": "_HInYP_qwm4f",
        "outputId": "3a37ee01-5210-4008-acdd-b7d41aae9cd9"
      },
      "execution_count": null,
      "outputs": [
        {
          "output_type": "stream",
          "name": "stdout",
          "text": [
            "red\n",
            "orange\n",
            "yellow\n"
          ]
        }
      ]
    },
    {
      "cell_type": "code",
      "source": [
        "for i,k in f.items():\n",
        "  print(i,k)"
      ],
      "metadata": {
        "colab": {
          "base_uri": "https://localhost:8080/"
        },
        "id": "IFTZyh0pwstQ",
        "outputId": "065c2813-8976-4eba-a9d4-a50671fa5041"
      },
      "execution_count": null,
      "outputs": [
        {
          "output_type": "stream",
          "name": "stdout",
          "text": [
            "kiwi red\n",
            "orange orange\n",
            "mango yellow\n"
          ]
        }
      ]
    },
    {
      "cell_type": "code",
      "source": [
        "m={\"ish\":45,\"dhv\":65,\"anz\":84,\"kat\":56}\n",
        "m"
      ],
      "metadata": {
        "colab": {
          "base_uri": "https://localhost:8080/"
        },
        "id": "sfGvCsm2w0to",
        "outputId": "54c63cda-2e89-48b3-c798-a96ca2a31e6d"
      },
      "execution_count": null,
      "outputs": [
        {
          "output_type": "execute_result",
          "data": {
            "text/plain": [
              "{'anz': 84, 'dhv': 65, 'ish': 45, 'kat': 56}"
            ]
          },
          "metadata": {},
          "execution_count": 11
        }
      ]
    },
    {
      "cell_type": "code",
      "source": [
        "a = \"\"\n",
        "sum = 0\n",
        "for key, values in m.items():\n",
        "  if values > sum:\n",
        "    sum = values\n",
        "    a = key\n",
        "print(sum)\n",
        "print(a)\n",
        "  \n",
        "  \n",
        "\n"
      ],
      "metadata": {
        "colab": {
          "base_uri": "https://localhost:8080/"
        },
        "id": "ZljM8TM3x4k8",
        "outputId": "310ec83b-90bc-4fb7-f580-cb8c8462789c"
      },
      "execution_count": null,
      "outputs": [
        {
          "output_type": "stream",
          "name": "stdout",
          "text": [
            "84\n",
            "anz\n"
          ]
        }
      ]
    },
    {
      "cell_type": "code",
      "source": [
        "f1 = dict([('kiwi', 'red'), ('orange', 'orange'), ('mango', 'yellow')])\n",
        "f1"
      ],
      "metadata": {
        "colab": {
          "base_uri": "https://localhost:8080/"
        },
        "id": "8UXmBAH71Urn",
        "outputId": "988d2ffd-caff-4296-b3a7-bb0e82423d2b"
      },
      "execution_count": null,
      "outputs": [
        {
          "output_type": "execute_result",
          "data": {
            "text/plain": [
              "{'kiwi': 'red', 'mango': 'yellow', 'orange': 'orange'}"
            ]
          },
          "metadata": {},
          "execution_count": 37
        }
      ]
    },
    {
      "cell_type": "code",
      "source": [
        "f2 = dict(orange=\"orange\", mango=\"yellow\", apple=\"red\")\n",
        "f2"
      ],
      "metadata": {
        "colab": {
          "base_uri": "https://localhost:8080/"
        },
        "id": "dUvtCdGs2eKP",
        "outputId": "e3e50668-72e2-4ab2-c5a4-89ce0378f6f9"
      },
      "execution_count": null,
      "outputs": [
        {
          "output_type": "execute_result",
          "data": {
            "text/plain": [
              "{'apple': 'red', 'mango': 'yellow', 'orange': 'orange'}"
            ]
          },
          "metadata": {},
          "execution_count": 38
        }
      ]
    },
    {
      "cell_type": "code",
      "source": [
        "s1={\"id\":1,\"marks\":29,\"num\":458}\n",
        "s1"
      ],
      "metadata": {
        "colab": {
          "base_uri": "https://localhost:8080/"
        },
        "id": "knV5XzjW2sz7",
        "outputId": "1a6da08a-4a87-4552-a655-23647c8ce5fe"
      },
      "execution_count": null,
      "outputs": [
        {
          "output_type": "execute_result",
          "data": {
            "text/plain": [
              "{'id': 1, 'marks': 29, 'num': 458}"
            ]
          },
          "metadata": {},
          "execution_count": 39
        }
      ]
    },
    {
      "cell_type": "code",
      "source": [
        "s2={\"id\":2,\"marks\":36,\"num\":854545}\n",
        "s3={\"id\":3,\"marks\":22,\"num\":45845}\n",
        "s4={\"id\":4,\"marks\":45,\"num\":45821}\n",
        "s={\"ish\":s1,\"kat\":s2,\"anz\":s3,\"dhv\":s4}\n",
        "s"
      ],
      "metadata": {
        "colab": {
          "base_uri": "https://localhost:8080/"
        },
        "id": "q1CdtW0G3dY2",
        "outputId": "5c5768b2-3f05-4799-dd1e-fdaa94a00a3d"
      },
      "execution_count": null,
      "outputs": [
        {
          "output_type": "execute_result",
          "data": {
            "text/plain": [
              "{'anz': {'id': 3, 'marks': 22, 'num': 45845},\n",
              " 'dhv': {'id': 4, 'marks': 45, 'num': 45821},\n",
              " 'ish': {'id': 1, 'marks': 29, 'num': 458},\n",
              " 'kat': {'id': 2, 'marks': 36, 'num': 854545}}"
            ]
          },
          "metadata": {},
          "execution_count": 40
        }
      ]
    },
    {
      "cell_type": "code",
      "source": [
        "s[\"ish\"][\"marks\"]"
      ],
      "metadata": {
        "colab": {
          "base_uri": "https://localhost:8080/"
        },
        "id": "xKGn275H4EZn",
        "outputId": "05cb1012-5346-48f5-ae3e-2dc4d9dcfef5"
      },
      "execution_count": null,
      "outputs": [
        {
          "output_type": "execute_result",
          "data": {
            "text/plain": [
              "29"
            ]
          },
          "metadata": {},
          "execution_count": 41
        }
      ]
    },
    {
      "cell_type": "code",
      "source": [
        "sum = 0\n",
        "a=\"\"\n",
        "for i,k in s.items():\n",
        "    if k[\"marks\"] > sum:\n",
        "      sum = k[\"marks\"]\n",
        "      a = i\n",
        "sum\n",
        "i"
      ],
      "metadata": {
        "colab": {
          "base_uri": "https://localhost:8080/",
          "height": 35
        },
        "id": "c4Uq_FyX4R_L",
        "outputId": "48de596f-41e7-4673-e811-422208c18d00"
      },
      "execution_count": null,
      "outputs": [
        {
          "output_type": "execute_result",
          "data": {
            "application/vnd.google.colaboratory.intrinsic+json": {
              "type": "string"
            },
            "text/plain": [
              "'dhv'"
            ]
          },
          "metadata": {},
          "execution_count": 50
        }
      ]
    },
    {
      "cell_type": "code",
      "source": [
        "id=[1,2,3,4]\n",
        "name=[\"abc\",\"pqr\"]\n",
        "marks=(12,15,16)\n",
        "s={\"id\":id,\"name\":name,\"marks\":marks}\n",
        "s"
      ],
      "metadata": {
        "colab": {
          "base_uri": "https://localhost:8080/"
        },
        "id": "ulkJyT0m8c_f",
        "outputId": "61490a09-11bc-43d2-91a7-cc3d33209844"
      },
      "execution_count": null,
      "outputs": [
        {
          "output_type": "execute_result",
          "data": {
            "text/plain": [
              "{'id': [1, 2, 3, 4], 'marks': (12, 15, 16), 'name': ['abc', 'pqr']}"
            ]
          },
          "metadata": {},
          "execution_count": 54
        }
      ]
    },
    {
      "cell_type": "code",
      "source": [
        "d={25.6:30,56.8:30}\n",
        "d"
      ],
      "metadata": {
        "colab": {
          "base_uri": "https://localhost:8080/"
        },
        "id": "ApwGj-gt89lv",
        "outputId": "f0dc65c9-0fe8-4a0e-86d7-6916699e8788"
      },
      "execution_count": null,
      "outputs": [
        {
          "output_type": "execute_result",
          "data": {
            "text/plain": [
              "{25.6: 30, 56.8: 30}"
            ]
          },
          "metadata": {},
          "execution_count": 55
        }
      ]
    },
    {
      "cell_type": "code",
      "source": [
        "s1={4,5,8,4,2,4,5,6,}\n",
        "s1"
      ],
      "metadata": {
        "colab": {
          "base_uri": "https://localhost:8080/"
        },
        "id": "23qrqjgm9EUA",
        "outputId": "7e953989-4345-437b-9cb9-3ed6ba924041"
      },
      "execution_count": null,
      "outputs": [
        {
          "output_type": "execute_result",
          "data": {
            "text/plain": [
              "{2, 4, 5, 6, 8}"
            ]
          },
          "metadata": {},
          "execution_count": 56
        }
      ]
    },
    {
      "cell_type": "code",
      "source": [
        "s1.add(21)\n",
        "s1"
      ],
      "metadata": {
        "colab": {
          "base_uri": "https://localhost:8080/"
        },
        "id": "uxYB-tes9_Qo",
        "outputId": "3f5afdbe-dfdd-4a6f-ea8a-e0df7f7e4a0b"
      },
      "execution_count": null,
      "outputs": [
        {
          "output_type": "execute_result",
          "data": {
            "text/plain": [
              "{2, 4, 5, 6, 8, 21}"
            ]
          },
          "metadata": {},
          "execution_count": 57
        }
      ]
    },
    {
      "cell_type": "code",
      "source": [
        "s1.discard(21)\n",
        "s1"
      ],
      "metadata": {
        "colab": {
          "base_uri": "https://localhost:8080/"
        },
        "id": "qjfcvHK2-E4R",
        "outputId": "e285339a-5ec0-4f57-bed3-3812774f8951"
      },
      "execution_count": null,
      "outputs": [
        {
          "output_type": "execute_result",
          "data": {
            "text/plain": [
              "{2, 4, 5, 6, 8}"
            ]
          },
          "metadata": {},
          "execution_count": 58
        }
      ]
    },
    {
      "cell_type": "code",
      "source": [
        "s1.remove(5)\n",
        "s1"
      ],
      "metadata": {
        "colab": {
          "base_uri": "https://localhost:8080/"
        },
        "id": "i-W3vxs--K0h",
        "outputId": "4ccf5951-37c6-4317-e828-f4191786e0b4"
      },
      "execution_count": null,
      "outputs": [
        {
          "output_type": "execute_result",
          "data": {
            "text/plain": [
              "{2, 4, 6, 8}"
            ]
          },
          "metadata": {},
          "execution_count": 59
        }
      ]
    },
    {
      "cell_type": "code",
      "source": [
        "s1.discard(50)\n",
        "s1"
      ],
      "metadata": {
        "colab": {
          "base_uri": "https://localhost:8080/"
        },
        "id": "5dapfq2v-SdM",
        "outputId": "e0fdb713-a9d2-474d-9420-611521dbc517"
      },
      "execution_count": null,
      "outputs": [
        {
          "output_type": "execute_result",
          "data": {
            "text/plain": [
              "{2, 4, 6, 8}"
            ]
          },
          "metadata": {},
          "execution_count": 60
        }
      ]
    },
    {
      "cell_type": "code",
      "source": [
        "s1.remove(50)\n",
        "s1"
      ],
      "metadata": {
        "colab": {
          "base_uri": "https://localhost:8080/",
          "height": 184
        },
        "id": "7kdUc3yY-Wwa",
        "outputId": "5f0110a9-6697-42f3-af10-9b867460c175"
      },
      "execution_count": null,
      "outputs": [
        {
          "output_type": "error",
          "ename": "KeyError",
          "evalue": "ignored",
          "traceback": [
            "\u001b[0;31m---------------------------------------------------------------------------\u001b[0m",
            "\u001b[0;31mKeyError\u001b[0m                                  Traceback (most recent call last)",
            "\u001b[0;32m<ipython-input-61-dcf3f95e89fc>\u001b[0m in \u001b[0;36m<module>\u001b[0;34m()\u001b[0m\n\u001b[0;32m----> 1\u001b[0;31m \u001b[0ms1\u001b[0m\u001b[0;34m.\u001b[0m\u001b[0mremove\u001b[0m\u001b[0;34m(\u001b[0m\u001b[0;36m50\u001b[0m\u001b[0;34m)\u001b[0m\u001b[0;34m\u001b[0m\u001b[0;34m\u001b[0m\u001b[0m\n\u001b[0m\u001b[1;32m      2\u001b[0m \u001b[0ms1\u001b[0m\u001b[0;34m\u001b[0m\u001b[0;34m\u001b[0m\u001b[0m\n",
            "\u001b[0;31mKeyError\u001b[0m: 50"
          ]
        }
      ]
    },
    {
      "cell_type": "code",
      "source": [
        "s1"
      ],
      "metadata": {
        "colab": {
          "base_uri": "https://localhost:8080/"
        },
        "id": "Mljx9nIP-cBI",
        "outputId": "7bdec616-e54b-4eb6-9da2-d9282d72f365"
      },
      "execution_count": null,
      "outputs": [
        {
          "output_type": "execute_result",
          "data": {
            "text/plain": [
              "{2, 4, 6, 8}"
            ]
          },
          "metadata": {},
          "execution_count": 62
        }
      ]
    },
    {
      "cell_type": "code",
      "source": [
        "s2={5,4,6,7,9}\n",
        "s1.union(s2)"
      ],
      "metadata": {
        "colab": {
          "base_uri": "https://localhost:8080/"
        },
        "id": "pT3Ndtgy-wjj",
        "outputId": "71018a44-7ca1-4d0c-d0e9-13e16891b1ce"
      },
      "execution_count": null,
      "outputs": [
        {
          "output_type": "execute_result",
          "data": {
            "text/plain": [
              "{2, 4, 5, 6, 7, 8, 9}"
            ]
          },
          "metadata": {},
          "execution_count": 63
        }
      ]
    },
    {
      "cell_type": "code",
      "source": [
        "s1.intersection(s2)"
      ],
      "metadata": {
        "colab": {
          "base_uri": "https://localhost:8080/"
        },
        "id": "qIIZXZoB-3ig",
        "outputId": "df80208e-147c-4673-883c-d74759956fe3"
      },
      "execution_count": null,
      "outputs": [
        {
          "output_type": "execute_result",
          "data": {
            "text/plain": [
              "{4, 6}"
            ]
          },
          "metadata": {},
          "execution_count": 64
        }
      ]
    },
    {
      "cell_type": "code",
      "source": [
        "s1.difference(s2)"
      ],
      "metadata": {
        "colab": {
          "base_uri": "https://localhost:8080/"
        },
        "id": "v1jJIBmd-8UI",
        "outputId": "b1b6d9f3-9567-4fe5-f5d8-fa9a440a2b50"
      },
      "execution_count": null,
      "outputs": [
        {
          "output_type": "execute_result",
          "data": {
            "text/plain": [
              "{2, 8}"
            ]
          },
          "metadata": {},
          "execution_count": 65
        }
      ]
    },
    {
      "cell_type": "code",
      "source": [
        "s1.symmetric_difference(s2)"
      ],
      "metadata": {
        "colab": {
          "base_uri": "https://localhost:8080/"
        },
        "id": "gSxEsIAI_AJy",
        "outputId": "e4ee700e-3cea-4413-a4ae-5ff68b758e94"
      },
      "execution_count": null,
      "outputs": [
        {
          "output_type": "execute_result",
          "data": {
            "text/plain": [
              "{2, 5, 7, 8, 9}"
            ]
          },
          "metadata": {},
          "execution_count": 66
        }
      ]
    },
    {
      "cell_type": "code",
      "source": [
        "del s1"
      ],
      "metadata": {
        "id": "BLVGU8tH_dPK"
      },
      "execution_count": null,
      "outputs": []
    },
    {
      "cell_type": "code",
      "source": [
        "import random\n",
        "\n",
        "m1 = [\"ax\",\"cd\",\"es\",\"bg\"]\n",
        "m = random.choice(m1)\n",
        "m = list(m)\n",
        "m2 = [\"*\"]*len(m)\n",
        "chance = 3\n",
        "\n",
        "while(m!=m2 and chance>0):\n",
        "  print(\"guess movie\", m2)\n",
        "  print(chance)\n",
        "  a=input(\"enter a letter\")\n",
        "  if a in m:\n",
        "    for i in range(len(m)):\n",
        "      if a==m[i]:\n",
        "        m2[i]=a\n",
        "  else:\n",
        "    chance=chance-1"
      ],
      "metadata": {
        "colab": {
          "base_uri": "https://localhost:8080/"
        },
        "id": "7Nrhy36x_fCr",
        "outputId": "7331c3ed-26f7-4cae-81f0-c9615ab30cd9"
      },
      "execution_count": null,
      "outputs": [
        {
          "name": "stdout",
          "output_type": "stream",
          "text": [
            "guess movie ['*', '*']\n",
            "3\n",
            "enter a lettera\n",
            "guess movie ['*', '*']\n",
            "2\n",
            "enter a letterc\n",
            "guess movie ['c', '*']\n",
            "2\n",
            "enter a letterd\n"
          ]
        }
      ]
    },
    {
      "cell_type": "code",
      "source": [
        "import random\n",
        "\n",
        "m1 = [\"ax\",\"cd\",\"es\",\"bg\"]\n",
        "m = random.choice(m1)\n",
        "m = list(m)\n",
        "m2 = [\"*\"]*len(m)\n",
        "chance = 3\n",
        "\n",
        "while(m!=m2 and chance>0):\n",
        "  print(\"guess movie\", m2)\n",
        "  print(chance)\n",
        "  a=input(\"enter a letter\")\n",
        "  if a in m:\n",
        "    for i in range(len(m)):\n",
        "      if a==m[i]:\n",
        "        m2[i]=a\n",
        "  else:\n",
        "    chance=chance-1"
      ],
      "metadata": {
        "id": "ZIhv5DwEAvxM",
        "outputId": "fa42fdb9-9250-430c-cd14-387d9a9657cb",
        "colab": {
          "base_uri": "https://localhost:8080/"
        }
      },
      "execution_count": null,
      "outputs": [
        {
          "name": "stdout",
          "output_type": "stream",
          "text": [
            "guess movie ['*', '*']\n",
            "3\n",
            "enter a lettere\n",
            "guess movie ['*', '*']\n",
            "2\n",
            "enter a letterc\n",
            "guess movie ['*', '*']\n",
            "1\n",
            "enter a letterb\n",
            "guess movie ['b', '*']\n",
            "1\n",
            "enter a letterg\n"
          ]
        }
      ]
    }
  ]
}