{
  "nbformat": 4,
  "nbformat_minor": 0,
  "metadata": {
    "colab": {
      "name": "lab-2.ipynb",
      "provenance": [],
      "collapsed_sections": []
    },
    "kernelspec": {
      "name": "python3",
      "display_name": "Python 3"
    },
    "language_info": {
      "name": "python"
    }
  },
  "cells": [
    {
      "cell_type": "code",
      "execution_count": 1,
      "metadata": {
        "id": "kJkgVV4YpxP3",
        "colab": {
          "base_uri": "https://localhost:8080/"
        },
        "outputId": "07331579-72ba-45b1-e09a-e864d493b12a"
      },
      "outputs": [
        {
          "output_type": "stream",
          "name": "stdout",
          "text": [
            "1\n",
            "2\n",
            "fizz\n",
            "4\n",
            "buzz\n",
            "fizz\n",
            "7\n",
            "8\n",
            "fizz\n",
            "buzz\n",
            "11\n",
            "fizz\n",
            "13\n",
            "14\n",
            "fizzbuzz\n",
            "16\n",
            "17\n",
            "fizz\n",
            "19\n",
            "buzz\n",
            "fizz\n",
            "22\n",
            "23\n",
            "fizz\n",
            "buzz\n",
            "26\n",
            "fizz\n",
            "28\n",
            "29\n",
            "fizzbuzz\n",
            "31\n",
            "32\n",
            "fizz\n",
            "34\n",
            "buzz\n",
            "fizz\n",
            "37\n",
            "38\n",
            "fizz\n",
            "buzz\n",
            "41\n",
            "fizz\n",
            "43\n",
            "44\n",
            "fizzbuzz\n",
            "46\n",
            "47\n",
            "fizz\n",
            "49\n",
            "buzz\n",
            "fizz\n",
            "52\n",
            "53\n",
            "fizz\n",
            "buzz\n",
            "56\n",
            "fizz\n",
            "58\n",
            "59\n",
            "fizzbuzz\n",
            "61\n",
            "62\n",
            "fizz\n",
            "64\n",
            "buzz\n",
            "fizz\n",
            "67\n",
            "68\n",
            "fizz\n",
            "buzz\n",
            "71\n",
            "fizz\n",
            "73\n",
            "74\n",
            "fizzbuzz\n",
            "76\n",
            "77\n",
            "fizz\n",
            "79\n",
            "buzz\n",
            "fizz\n",
            "82\n",
            "83\n",
            "fizz\n",
            "buzz\n",
            "86\n",
            "fizz\n",
            "88\n",
            "89\n",
            "fizzbuzz\n",
            "91\n",
            "92\n",
            "fizz\n",
            "94\n",
            "buzz\n",
            "fizz\n",
            "97\n",
            "98\n",
            "fizz\n"
          ]
        }
      ],
      "source": [
        "for i in range(1,100):\n",
        "  if (i % 15 == 0 ):\n",
        "    print(\"fizzbuzz\")\n",
        "  elif (i % 3 == 0):\n",
        "    print(\"fizz\")\n",
        "  elif ( i % 5 == 0):\n",
        "    print(\"buzz\")\n",
        "  else:\n",
        "    print(i)"
      ]
    },
    {
      "cell_type": "code",
      "source": [
        "a = int(input(\"enter a number\"))\n",
        "sum = 0\n",
        "while(a>0):\n",
        "  sum = sum + int(a%10)\n",
        "  a = a//10\n",
        "print(sum)"
      ],
      "metadata": {
        "id": "_glXHu81p3hA",
        "colab": {
          "base_uri": "https://localhost:8080/"
        },
        "outputId": "a0620617-b7bd-4f4e-e80f-8efe4c00c431"
      },
      "execution_count": 2,
      "outputs": [
        {
          "output_type": "stream",
          "name": "stdout",
          "text": [
            "enter a number2\n",
            "2\n"
          ]
        }
      ]
    },
    {
      "cell_type": "code",
      "source": [
        "import random\n",
        "\n",
        "l = int(input(\"enter lower number\"))\n",
        "h = int(input(\"enter higher number\"))\n",
        "\n",
        "a = random.randint(l,h)\n",
        "\n",
        "while(1):\n",
        "  b = int(input(\"guess the number\"))\n",
        "  if (b == a):\n",
        "    print (\"right\")\n",
        "    break\n",
        "  elif (b < a):\n",
        "    print(\"low\")\n",
        "  elif (b > a):\n",
        "    print(\"high\")"
      ],
      "metadata": {
        "id": "UeSUB2v9p7ur",
        "colab": {
          "base_uri": "https://localhost:8080/"
        },
        "outputId": "1d750589-aae6-40b5-e9e3-3b5022727f3c"
      },
      "execution_count": 3,
      "outputs": [
        {
          "output_type": "stream",
          "name": "stdout",
          "text": [
            "enter lower number4\n",
            "enter higher number8\n",
            "guess the number6\n",
            "low\n",
            "guess the number5\n",
            "low\n",
            "guess the number4\n",
            "low\n",
            "guess the number6\n",
            "guess the number7\n",
            "low\n",
            "low\n",
            "guess the number8\n",
            "right\n"
          ]
        }
      ]
    },
    {
      "cell_type": "code",
      "source": [
        "import random\n",
        "level=1\n",
        "i=1\n",
        "chance = 5\n",
        "while(1):\n",
        "  a = random.randint(level,level*10-1)\n",
        "  b = random.randint(level,level*10-1)\n",
        "  print(\"your level is:\", i)\n",
        "  print (\"enter answer of\", a ,\"+\", b)\n",
        "  ans = int(input())\n",
        "  if (ans == a+b):\n",
        "    level = level*10\n",
        "    i = i+1\n",
        "    chance=5\n",
        "  else:\n",
        "    if(chance<1):\n",
        "      break\n",
        "    a = random.randint(level,level*10-1)\n",
        "    b = random.randint(level,level*10-1)\n",
        "    chance=chance-1\n",
        "    print(\"wrong ans\")"
      ],
      "metadata": {
        "id": "9SxqoQzrp-zR",
        "colab": {
          "base_uri": "https://localhost:8080/"
        },
        "outputId": "995d1155-3d0a-4298-8def-a52eb04cb7dc"
      },
      "execution_count": 4,
      "outputs": [
        {
          "name": "stdout",
          "output_type": "stream",
          "text": [
            "your level is: 1\n",
            "enter answer of 1 + 7\n",
            "8\n",
            "your level is: 2\n",
            "enter answer of 43 + 80\n",
            "123\n",
            "your level is: 3\n",
            "enter answer of 848 + 838\n",
            "1686\n",
            "your level is: 4\n",
            "enter answer of 9741 + 4921\n",
            "14662\n",
            "your level is: 5\n",
            "enter answer of 64975 + 33287\n",
            "32456\n",
            "wrong ans\n",
            "your level is: 5\n",
            "enter answer of 68641 + 62933\n",
            "43534\n",
            "wrong ans\n",
            "your level is: 5\n",
            "enter answer of 77430 + 86660\n",
            "42345\n",
            "wrong ans\n",
            "your level is: 5\n",
            "enter answer of 89535 + 12185\n",
            "53424\n",
            "wrong ans\n",
            "your level is: 5\n",
            "enter answer of 25508 + 23666\n",
            "32453\n",
            "wrong ans\n",
            "your level is: 5\n",
            "enter answer of 33833 + 42522\n",
            "42323\n"
          ]
        }
      ]
    }
  ]
}