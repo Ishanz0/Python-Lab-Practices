{
  "nbformat": 4,
  "nbformat_minor": 0,
  "metadata": {
    "colab": {
      "name": "lab-6.ipynb",
      "provenance": [],
      "collapsed_sections": []
    },
    "kernelspec": {
      "name": "python3",
      "display_name": "Python 3"
    },
    "language_info": {
      "name": "python"
    }
  },
  "cells": [
    {
      "cell_type": "code",
      "execution_count": null,
      "metadata": {
        "colab": {
          "base_uri": "https://localhost:8080/",
          "height": 236
        },
        "id": "STqJs7AH5HWF",
        "outputId": "3099420c-8f71-428a-fca4-3521b142efbe"
      },
      "outputs": [
        {
          "output_type": "error",
          "ename": "ZeroDivisionError",
          "evalue": "ignored",
          "traceback": [
            "\u001b[0;31m---------------------------------------------------------------------------\u001b[0m",
            "\u001b[0;31mZeroDivisionError\u001b[0m                         Traceback (most recent call last)",
            "\u001b[0;32m<ipython-input-1-e99446de379c>\u001b[0m in \u001b[0;36m<module>\u001b[0;34m()\u001b[0m\n\u001b[1;32m      1\u001b[0m \u001b[0ml\u001b[0m\u001b[0;34m=\u001b[0m\u001b[0;34m[\u001b[0m\u001b[0;36m1\u001b[0m\u001b[0;34m,\u001b[0m\u001b[0;36m2\u001b[0m\u001b[0;34m,\u001b[0m\u001b[0;36m3\u001b[0m\u001b[0;34m,\u001b[0m\u001b[0;36m4\u001b[0m\u001b[0;34m,\u001b[0m\u001b[0;36m5\u001b[0m\u001b[0;34m]\u001b[0m\u001b[0;34m\u001b[0m\u001b[0;34m\u001b[0m\u001b[0m\n\u001b[1;32m      2\u001b[0m \u001b[0;32mif\u001b[0m\u001b[0;34m(\u001b[0m\u001b[0ml\u001b[0m\u001b[0;34m[\u001b[0m\u001b[0;36m0\u001b[0m\u001b[0;34m]\u001b[0m\u001b[0;34m==\u001b[0m\u001b[0;36m1\u001b[0m\u001b[0;34m)\u001b[0m\u001b[0;34m:\u001b[0m\u001b[0;34m\u001b[0m\u001b[0;34m\u001b[0m\u001b[0m\n\u001b[0;32m----> 3\u001b[0;31m   \u001b[0ma\u001b[0m\u001b[0;34m=\u001b[0m\u001b[0ml\u001b[0m\u001b[0;34m[\u001b[0m\u001b[0;36m0\u001b[0m\u001b[0;34m]\u001b[0m\u001b[0;34m/\u001b[0m\u001b[0;36m0\u001b[0m\u001b[0;34m\u001b[0m\u001b[0;34m\u001b[0m\u001b[0m\n\u001b[0m\u001b[1;32m      4\u001b[0m   \u001b[0ma\u001b[0m\u001b[0;34m\u001b[0m\u001b[0;34m\u001b[0m\u001b[0m\n\u001b[1;32m      5\u001b[0m \u001b[0;34m\u001b[0m\u001b[0m\n",
            "\u001b[0;31mZeroDivisionError\u001b[0m: division by zero"
          ]
        }
      ],
      "source": [
        "l=[1,2,3,4,5]\n",
        "if(l[0]==1):\n",
        "  a=l[0]/0\n",
        "  a\n",
        "\n",
        "elif l[0]==2:\n",
        "  a=l[0]\n",
        "  a\n",
        "\n",
        "else:\n",
        "  a=10\n",
        "  a"
      ]
    },
    {
      "cell_type": "code",
      "source": [
        "l=[10,2,3,4,5]\n",
        "if(l[0]==1):\n",
        "  a=l[0]/0\n",
        "  print(a)\n",
        "\n",
        "elif l[0]==2:\n",
        "  a=l[0]\n",
        "  print(a)\n",
        "\n",
        "else:\n",
        "  a=10\n",
        "  print(a)\n",
        "  "
      ],
      "metadata": {
        "colab": {
          "base_uri": "https://localhost:8080/"
        },
        "id": "J8_szd946MzY",
        "outputId": "4e4bb3cb-9e7d-4958-ee8c-420421a38521"
      },
      "execution_count": null,
      "outputs": [
        {
          "output_type": "stream",
          "name": "stdout",
          "text": [
            "10\n"
          ]
        }
      ]
    },
    {
      "cell_type": "code",
      "source": [
        "try:\n",
        "  l=[3,2,3,4,5]\n",
        "  if(l[0]==1):\n",
        "    a=l[0]/0\n",
        "    print(a)\n",
        "\n",
        "  elif l[0]==2:\n",
        "    a=l[6]\n",
        "    print(a)\n",
        "\n",
        "  else:\n",
        "    a=10\n",
        "    print(a)\n",
        "\n",
        "except ZeroDivisionError:\n",
        "  print(\"divide by zero not possible\")\n",
        "\n",
        "except IndexError:\n",
        "  print(\"Index not accessible\")\n",
        "\n",
        "else:\n",
        "  print(\"no exception generated\")\n",
        "\n",
        "finally:\n",
        "  print(\"you are at the end of code\")"
      ],
      "metadata": {
        "colab": {
          "base_uri": "https://localhost:8080/"
        },
        "id": "KHgLOTSb6WuG",
        "outputId": "e808bcc0-d080-481d-c5a0-b0c4367f0797"
      },
      "execution_count": null,
      "outputs": [
        {
          "output_type": "stream",
          "name": "stdout",
          "text": [
            "10\n",
            "no exception generated\n",
            "you are at the end of code\n"
          ]
        }
      ]
    },
    {
      "cell_type": "code",
      "source": [
        "try:\n",
        "  l=[2,2,3,4,5]\n",
        "  if(l[0]==1):\n",
        "    a=l[0]/0\n",
        "    print(a)\n",
        "\n",
        "  elif l[0]==2:\n",
        "    a=l[6]\n",
        "    print(a)\n",
        "\n",
        "  else:\n",
        "    a=10\n",
        "    print(a)\n",
        "\n",
        "except (ZeroDivisionError, IndexError):\n",
        "  print(\"Exception generation\")\n",
        "\n",
        "else:\n",
        "  print(\"no exception generated\")\n",
        "\n",
        "finally:\n",
        "  print(\"you are at the end of code\")"
      ],
      "metadata": {
        "colab": {
          "base_uri": "https://localhost:8080/"
        },
        "id": "2QkVMKcv7nrO",
        "outputId": "d1c007fc-84dc-453c-bc73-cc9ed2360355"
      },
      "execution_count": null,
      "outputs": [
        {
          "output_type": "stream",
          "name": "stdout",
          "text": [
            "Exception generation\n",
            "you are at the end of code\n"
          ]
        }
      ]
    },
    {
      "cell_type": "code",
      "source": [
        "try:\n",
        "  l=[2,2,3,4,5]\n",
        "  if(l[0]==1):\n",
        "    a=l[0]/0\n",
        "    print(a)\n",
        "\n",
        "  elif l[0]==2:\n",
        "    a=l[6]\n",
        "    print(a)\n",
        "\n",
        "  else:\n",
        "    a=10\n",
        "    print(a)\n",
        "\n",
        "except Exception as e:\n",
        "  print(e)\n",
        "\n",
        "else:\n",
        "  print(\"no exception generated\")\n",
        "\n",
        "finally:\n",
        "  print(\"you are at the end of code\")"
      ],
      "metadata": {
        "colab": {
          "base_uri": "https://localhost:8080/"
        },
        "id": "tuW6jY6o7-BP",
        "outputId": "63fe60a4-8e5c-4d93-f19c-c5d79995532a"
      },
      "execution_count": null,
      "outputs": [
        {
          "output_type": "stream",
          "name": "stdout",
          "text": [
            "list index out of range\n",
            "you are at the end of code\n"
          ]
        }
      ]
    },
    {
      "cell_type": "code",
      "source": [
        "class ude(Exception):\n",
        "  def __init__(self,str1):\n",
        "    print(str1)"
      ],
      "metadata": {
        "id": "KRYy-tol89C7"
      },
      "execution_count": null,
      "outputs": []
    },
    {
      "cell_type": "code",
      "source": [
        "\n",
        "try:\n",
        "  l=[1,2,3,4,5]\n",
        "  if(l[0]==1):\n",
        "    raise ude(\"user defined exception\")\n",
        "    print(a)\n",
        "\n",
        "  elif l[0]==2:\n",
        "    a=l[6]\n",
        "    print(a)\n",
        "\n",
        "  else:\n",
        "    a=10\n",
        "    print(a)\n",
        "\n",
        "except Exception as e:\n",
        "  print(e)\n",
        "\n",
        "else:\n",
        "  print(\"no exception generated\")\n",
        "\n",
        "finally:\n",
        "  print(\"you are at the end of code\")\n"
      ],
      "metadata": {
        "colab": {
          "base_uri": "https://localhost:8080/"
        },
        "id": "SKzT4DLu9zok",
        "outputId": "0ecce59c-7ec5-4ddd-cb68-f40d20b0bd6e"
      },
      "execution_count": null,
      "outputs": [
        {
          "output_type": "stream",
          "name": "stdout",
          "text": [
            "user defined exception\n",
            "user defined exception\n",
            "you are at the end of code\n"
          ]
        }
      ]
    },
    {
      "cell_type": "code",
      "source": [
        "import re\n",
        "pat = re.compile(\"aa(09)*ab(cd)*\")"
      ],
      "metadata": {
        "id": "IlfXuOiO93aT"
      },
      "execution_count": null,
      "outputs": []
    },
    {
      "cell_type": "code",
      "source": [
        "x=pat.match(\"aaabcd\")\n",
        "x"
      ],
      "metadata": {
        "colab": {
          "base_uri": "https://localhost:8080/"
        },
        "id": "1XSGYRjIBeRB",
        "outputId": "d42f5f34-43e2-477d-9971-260f6907d2f6"
      },
      "execution_count": null,
      "outputs": [
        {
          "output_type": "execute_result",
          "data": {
            "text/plain": [
              "<re.Match object; span=(0, 6), match='aaabcd'>"
            ]
          },
          "metadata": {},
          "execution_count": 23
        }
      ]
    },
    {
      "cell_type": "code",
      "source": [
        "x=pat.match(\"aaaabcd\")\n",
        "print(x)"
      ],
      "metadata": {
        "colab": {
          "base_uri": "https://localhost:8080/"
        },
        "id": "idg4CxpsBtQ8",
        "outputId": "c4f19030-1826-410f-a898-2521ea377ea9"
      },
      "execution_count": null,
      "outputs": [
        {
          "output_type": "stream",
          "name": "stdout",
          "text": [
            "None\n"
          ]
        }
      ]
    },
    {
      "cell_type": "code",
      "source": [
        "x=pat.search(\"aaaabcd\")\n",
        "print(x)"
      ],
      "metadata": {
        "colab": {
          "base_uri": "https://localhost:8080/"
        },
        "id": "q2M-TG9WByQX",
        "outputId": "abb4c676-8a46-4df0-91a4-a1fc0ad6160c"
      },
      "execution_count": null,
      "outputs": [
        {
          "output_type": "stream",
          "name": "stdout",
          "text": [
            "<re.Match object; span=(1, 7), match='aaabcd'>\n"
          ]
        }
      ]
    },
    {
      "cell_type": "code",
      "source": [
        "x.groups()"
      ],
      "metadata": {
        "colab": {
          "base_uri": "https://localhost:8080/"
        },
        "id": "0_GIv_OzB7MB",
        "outputId": "9c712ea0-cce3-45ea-bdfc-90d2388ee295"
      },
      "execution_count": null,
      "outputs": [
        {
          "output_type": "execute_result",
          "data": {
            "text/plain": [
              "(None, 'cd')"
            ]
          },
          "metadata": {},
          "execution_count": 28
        }
      ]
    },
    {
      "cell_type": "code",
      "source": [
        "x=pat.match(\"aa09abcd\")\n",
        "print(x)"
      ],
      "metadata": {
        "colab": {
          "base_uri": "https://localhost:8080/"
        },
        "id": "fYVyZrYgCCdm",
        "outputId": "b312cff3-b416-4226-90f8-af94294e549c"
      },
      "execution_count": null,
      "outputs": [
        {
          "output_type": "stream",
          "name": "stdout",
          "text": [
            "<re.Match object; span=(0, 8), match='aa09abcd'>\n"
          ]
        }
      ]
    },
    {
      "cell_type": "code",
      "source": [
        "x.groups()"
      ],
      "metadata": {
        "colab": {
          "base_uri": "https://localhost:8080/"
        },
        "id": "Trl3ISvnCIp_",
        "outputId": "929e332d-1413-4438-d8a7-fd95e512f938"
      },
      "execution_count": null,
      "outputs": [
        {
          "output_type": "execute_result",
          "data": {
            "text/plain": [
              "('09', 'cd')"
            ]
          },
          "metadata": {},
          "execution_count": 31
        }
      ]
    },
    {
      "cell_type": "code",
      "source": [
        "x=pat.match(\"aa09abcdaa0909abaaabcdcd\")\n",
        "print(x)"
      ],
      "metadata": {
        "colab": {
          "base_uri": "https://localhost:8080/"
        },
        "id": "7cL7PFEPCMPf",
        "outputId": "17c1021a-3c4a-4fdb-916d-400bdb1f6d11"
      },
      "execution_count": null,
      "outputs": [
        {
          "output_type": "stream",
          "name": "stdout",
          "text": [
            "<re.Match object; span=(0, 8), match='aa09abcd'>\n"
          ]
        }
      ]
    },
    {
      "cell_type": "code",
      "source": [
        "x=pat.search(\"aa09abcdaa0909abaaabcdcd\")\n",
        "print(x)"
      ],
      "metadata": {
        "colab": {
          "base_uri": "https://localhost:8080/"
        },
        "id": "PjiugdD5CWwy",
        "outputId": "6365b831-a114-4211-9f35-34c7c14760c3"
      },
      "execution_count": null,
      "outputs": [
        {
          "output_type": "stream",
          "name": "stdout",
          "text": [
            "<re.Match object; span=(0, 8), match='aa09abcd'>\n"
          ]
        }
      ]
    },
    {
      "cell_type": "code",
      "source": [
        "x=pat.findall(\"aa09abcdaa0909abaaabcdcd\")\n",
        "print(x)"
      ],
      "metadata": {
        "colab": {
          "base_uri": "https://localhost:8080/"
        },
        "id": "3657cVViCcWb",
        "outputId": "cd9cf67f-0a52-4443-ee9e-6ae1819f90b5"
      },
      "execution_count": null,
      "outputs": [
        {
          "output_type": "stream",
          "name": "stdout",
          "text": [
            "[('09', 'cd'), ('09', ''), ('', 'cd')]\n"
          ]
        }
      ]
    },
    {
      "cell_type": "code",
      "source": [
        "import re\n",
        "n = re.compile(\"[a-z]+\")\n",
        "e = re.compile(\"\\w+(@gmail.com)\")\n",
        "p = re.compile(\"^[+](91){6,7,8,9}\\d{9}\")\n",
        "password = re.compile(\"[A-Z]+[a-z]+[\\w]+[\\W]+[0-9]+\")"
      ],
      "metadata": {
        "id": "6eZvHrkyCoeG"
      },
      "execution_count": null,
      "outputs": []
    },
    {
      "cell_type": "code",
      "source": [
        "name = n.match(\"ishan\")\n",
        "print(name)"
      ],
      "metadata": {
        "colab": {
          "base_uri": "https://localhost:8080/"
        },
        "id": "3HM-JBtxG_nr",
        "outputId": "f08da67a-9553-4607-95ab-e53f6fddc52a"
      },
      "execution_count": null,
      "outputs": [
        {
          "output_type": "stream",
          "name": "stdout",
          "text": [
            "<re.Match object; span=(0, 5), match='ishan'>\n"
          ]
        }
      ]
    },
    {
      "cell_type": "code",
      "source": [
        "def name():\n",
        "  n = re.compile(\"^[aA-zZ\\s]+\")\n",
        "  name = n.match(\"Ishan kataria\")\n",
        "  print(name)\n",
        "\n",
        "name()"
      ],
      "metadata": {
        "colab": {
          "base_uri": "https://localhost:8080/"
        },
        "id": "TqppBBSkHJBh",
        "outputId": "bb3c4f93-4ff3-4abe-afc7-483bec8facb6"
      },
      "execution_count": null,
      "outputs": [
        {
          "output_type": "stream",
          "name": "stdout",
          "text": [
            "<re.Match object; span=(0, 13), match='Ishan kataria'>\n"
          ]
        }
      ]
    },
    {
      "cell_type": "code",
      "source": [
        "def email():\n",
        "  e = re.compile(\"[\\w\\W]+(@gmail.com)\")\n",
        "  email = e.match(\"abc.1@gmail.com\")\n",
        "  print(email)\n",
        "\n",
        "email()"
      ],
      "metadata": {
        "colab": {
          "base_uri": "https://localhost:8080/"
        },
        "id": "4FT81CQEHl9d",
        "outputId": "3bc997c5-c75a-4d13-cffe-5673bee02993"
      },
      "execution_count": null,
      "outputs": [
        {
          "output_type": "stream",
          "name": "stdout",
          "text": [
            "<re.Match object; span=(0, 15), match='abc.1@gmail.com'>\n"
          ]
        }
      ]
    },
    {
      "cell_type": "code",
      "source": [
        "def ph():\n",
        "  p = re.compile(\"^[+](91){6,7,8,9}\\d{9}\")\n",
        "  ph = p.match(\"+917041462193\")\n",
        "  print(ph)\n",
        "\n",
        "ph()"
      ],
      "metadata": {
        "colab": {
          "base_uri": "https://localhost:8080/"
        },
        "id": "XybO_QzDIqoF",
        "outputId": "fad6da4a-3c9d-4876-beee-4e0365f8bea6"
      },
      "execution_count": null,
      "outputs": [
        {
          "output_type": "stream",
          "name": "stdout",
          "text": [
            "<re.Match object; span=(0, 12), match='+91704146219'>\n"
          ]
        }
      ]
    },
    {
      "cell_type": "code",
      "source": [
        "def ps():\n",
        "  password = re.compile(\"[A-Z]+[a-z]+[\\w]+[\\W]+[0-9]+\")\n",
        "  ps=password.findall(\"Ishan@123\")\n",
        "  print(ps)\n",
        "\n",
        "ps()"
      ],
      "metadata": {
        "colab": {
          "base_uri": "https://localhost:8080/"
        },
        "id": "Sc1gI88VI5Xc",
        "outputId": "0484627c-e3a8-4368-c906-b6346b33185c"
      },
      "execution_count": null,
      "outputs": [
        {
          "output_type": "stream",
          "name": "stdout",
          "text": [
            "['Ishan@123']\n"
          ]
        }
      ]
    },
    {
      "cell_type": "code",
      "source": [
        "def checkPass(p):\n",
        "  p1=re.compile(\"[a-z]\")\n",
        "  p2=re.compile(\"[A-Z]\")\n",
        "  p3=re.compile(\"[\\d]\")\n",
        "  p4=re.compile(\"[\\W]\")\n",
        "  x1=p1.search(p)\n",
        "  x2=p2.search(p)\n",
        "  x3=p3.search(p)\n",
        "  x4=p4.search(p)\n",
        "\n",
        "  if(x1 and x2 and x3 and x4):\n",
        "    return True\n",
        "  return False"
      ],
      "metadata": {
        "id": "klAHM7UUT_EF"
      },
      "execution_count": null,
      "outputs": []
    },
    {
      "cell_type": "code",
      "source": [
        "import re\n",
        "\n",
        "def checkName(s):\n",
        "  while True:\n",
        "    if not s.isalpha():\n",
        "        return False\n",
        "    else:import re\n",
        "\n",
        "def checkName(s):\n",
        "  while True:\n",
        "    if not s.isalpha():\n",
        "        return False\n",
        "    else:\n",
        "        return True\n",
        "\n",
        "\n",
        "def checkPhone(p):\n",
        "  pat3=re.compile(\"^[+]91[6-9]\\d{9}$\")\n",
        "  x=pat3.search(p)\n",
        "  if x:\n",
        "    return True\n",
        "  return False\n",
        "\n",
        "\n",
        "\n",
        "def checkMail(m):\n",
        "  pat2=re.compile(\"^[a-zA-Z0-9+_.-]+@gmail.com$\")\n",
        "  x=pat2.match(m)\n",
        "  if(x):\n",
        "    return True\n",
        "  return False\n",
        "\n",
        "def checkPass(p):\n",
        "  p1=re.compile(\"[a-z]\")\n",
        "  p2=re.compile(\"[A-Z]\")\n",
        "  p3=re.compile(\"[\\d]\")\n",
        "  p4=re.compile(\"[\\W]\")\n",
        "  x1=p1.search(p)\n",
        "  x2=p2.search(p)\n",
        "  x3=p3.search(p)\n",
        "  x4=p4.search(p)\n",
        "  if x1 and x2 and x3 and x4:\n",
        "    return True\n",
        "  return False\n",
        "\n",
        "\n",
        "\n",
        "import sqlite3\n",
        "con=sqlite3.connect(\"mydb.db\")\n",
        "cur=con.cursor()\n",
        "#s=\"create table user12(id integer primary key autoincrement,name varchar(10),phone integer(20),email varchar(20),pass varchar(16));\"\n",
        "#cur.execute(s)\n",
        "\n",
        "choice=int(input(\"Enter \\n1 New Regestration\\n2 View Details\\n3 Update Details\\n\"))\n",
        "\n",
        "if choice==1:\n",
        "\twhile True:\n",
        "\t\tn=input(\"Enter Name :\")\n",
        "\t\tm=input(\"Enter Mail :\")\n",
        "\t\tph=input(\"Enter Phone :\")\n",
        "\t\tp=input(\"Enter Password :\")\n",
        "\t\t\n",
        "\t\tif checkName(n) and checkPhone(ph) and checkMail(m) and checkPass(p):\n",
        "\t\t\tbreak\n",
        "\t\telse:\n",
        "\t\t\tprint(\"Enter valid Inputs\\n\")\n",
        "\t\n",
        "\tlst=[(n,ph,m,p)]\n",
        "\t#d=\"\"\"insert into user12(name,phone,email,pass) values(?,?,?,?);\"\"\"\n",
        "\t#cur.executemany(d,lst)\n",
        "\t\n",
        "\tprint(\"Succccc\")\n",
        "elif choice==2:\n",
        "\tn=input(\"Enter Name :\")\n",
        "\tp=input(\"Enter Password :\")\n",
        "\tn=\"'\"+n+\"'\"\n",
        "\tp=\"'\"+p+\"'\"\n",
        "\t\n",
        "\td=\"select * from user12 where name=\"+n+\" and pass=\"+p+\";\"\n",
        "\tcur.execute(d)\n",
        "\tans=cur.fetchall()\n",
        "\tif ans:\n",
        "\t\tprint(ans)\n",
        "\telse:\n",
        "\t\tprint(\"User not Exist\")\n",
        "elif choice==3:\n",
        "\tn=input(\"Enter Name :\")\n",
        "\tp=input(\"Enter Password :\")\n",
        "\tn=\"'\"+n+\"'\"\n",
        "\tp=\"'\"+p+\"'\"\n",
        "\td=\"select * from user12 where name=\"+n+\" and pass=\"+p+\";\"\n",
        "\tcur.execute(d)\n",
        "\tans=cur.fetchall()\n",
        "\t\n",
        "\tif ans:\t\n",
        "\t\tx=input(\"Which details u want to update :\")\n",
        "\t\ty=input(\"Enter updated detail :\")\n",
        "\t\ty=\"'\"+y+\"'\"\n",
        "\t\td=\"update user12 set \"+x+\"= \"+y+\" where name=\"+n+\" and pass=\"+p+\";\"\n",
        "\t\tcur.execute(d)\n",
        "\t\tprint(\"Updated Successfully\")\n",
        "\telse:\n",
        "\t\tprint(\"User not Exist\")\n",
        "\t\t\n",
        "\n",
        "con.commit()\n",
        "con.close()\n"
      ],
      "metadata": {
        "colab": {
          "base_uri": "https://localhost:8080/"
        },
        "id": "x-cKrYTqPWLH",
        "outputId": "d8a471eb-3516-4866-c5b4-53bfd0c89732"
      },
      "execution_count": 1,
      "outputs": [
        {
          "output_type": "stream",
          "name": "stdout",
          "text": [
            "Enter \n",
            "1 New Regestration\n",
            "2 View Details\n",
            "3 Update Details\n",
            "1\n",
            "Enter Name :ish\n",
            "Enter Mail :kat@gmail.com\n",
            "Enter Phone :0909090909\n",
            "Enter Password :ish@123\n",
            "Enter valid Inputs\n",
            "\n",
            "Enter Name :ishan\n",
            "Enter Mail :kat@gmail.com\n",
            "Enter Phone :+919090909090\n",
            "Enter Password :Ish@123\n",
            "Succccc\n"
          ]
        }
      ]
    }
  ]
}