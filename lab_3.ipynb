{
  "nbformat": 4,
  "nbformat_minor": 0,
  "metadata": {
    "colab": {
      "name": "lab-3.ipynb",
      "provenance": []
    },
    "kernelspec": {
      "name": "python3",
      "display_name": "Python 3"
    },
    "language_info": {
      "name": "python"
    }
  },
  "cells": [
    {
      "cell_type": "code",
      "execution_count": null,
      "metadata": {
        "id": "hn-SPXSfdhhd"
      },
      "outputs": [],
      "source": [
        "class pizza():\n",
        "  def __init__(self,n,s,b,t):\n",
        "    self.size=s\n",
        "    self.name=n\n",
        "    self.base=b\n",
        "    self.topping=t\n",
        "\n",
        "  def getsize(self):\n",
        "    return self.size\n",
        "\n",
        "p1=pizza(\"Thin Crust\",\"Regular\",\"Cheese Burst\",\"Green Olives\")"
      ]
    },
    {
      "cell_type": "code",
      "source": [
        "p1.name"
      ],
      "metadata": {
        "colab": {
          "base_uri": "https://localhost:8080/",
          "height": 35
        },
        "id": "mCSH9x9NgJc4",
        "outputId": "0391f9ef-8612-4ec2-8d69-048b23b2b75f"
      },
      "execution_count": null,
      "outputs": [
        {
          "output_type": "execute_result",
          "data": {
            "text/plain": [
              "'Thin Crust'"
            ],
            "application/vnd.google.colaboratory.intrinsic+json": {
              "type": "string"
            }
          },
          "metadata": {},
          "execution_count": 2
        }
      ]
    },
    {
      "cell_type": "code",
      "source": [
        "p1.getsize()"
      ],
      "metadata": {
        "colab": {
          "base_uri": "https://localhost:8080/",
          "height": 35
        },
        "id": "A7q9q6_PgLi9",
        "outputId": "f8200b61-7165-4e07-aef7-24f74bb0ccf7"
      },
      "execution_count": null,
      "outputs": [
        {
          "output_type": "execute_result",
          "data": {
            "text/plain": [
              "'Regular'"
            ],
            "application/vnd.google.colaboratory.intrinsic+json": {
              "type": "string"
            }
          },
          "metadata": {},
          "execution_count": 3
        }
      ]
    },
    {
      "cell_type": "code",
      "source": [
        "class pizza():\n",
        "  a=10\n",
        "  def __init__(self,n,s,b,t):\n",
        "    self.size=s\n",
        "    self.name=n\n",
        "    self.base=b\n",
        "    self.topping=t\n",
        "\n",
        "  def getsize(self):\n",
        "    return self.size\n",
        "\n",
        "  def geta(self):\n",
        "    return self.a+10\n",
        "\n",
        "p1=pizza(\"Thin Crust\",\"Regular\",\"Cheese Burst\",\"Green Olives\")\n",
        "p1.geta()"
      ],
      "metadata": {
        "colab": {
          "base_uri": "https://localhost:8080/"
        },
        "id": "WdZBKuE1gQCF",
        "outputId": "a52572ed-eb88-47ab-b3f4-0719eb54fff5"
      },
      "execution_count": null,
      "outputs": [
        {
          "output_type": "execute_result",
          "data": {
            "text/plain": [
              "20"
            ]
          },
          "metadata": {},
          "execution_count": 4
        }
      ]
    },
    {
      "cell_type": "code",
      "source": [
        "class pizza():\n",
        "  a=10\n",
        "  __b=20\n",
        "  def __init__(self,n,s,b,t):\n",
        "    self.size=s\n",
        "    self.name=n\n",
        "    self.base=b\n",
        "    self.topping=t\n",
        "\n",
        "  def getsize(self):\n",
        "    return self.size\n",
        "\n",
        "  def geta(self):\n",
        "    return self.a+10+self.__b\n",
        "\n",
        "p1=pizza(\"Thin Crust\",\"Regular\",\"Cheese Burst\",\"Green Olives\")\n",
        "p1.geta()"
      ],
      "metadata": {
        "colab": {
          "base_uri": "https://localhost:8080/"
        },
        "id": "GYDvNJYshVED",
        "outputId": "a40374a6-1df0-4c3c-c930-286522be0f71"
      },
      "execution_count": null,
      "outputs": [
        {
          "output_type": "execute_result",
          "data": {
            "text/plain": [
              "40"
            ]
          },
          "metadata": {},
          "execution_count": 5
        }
      ]
    },
    {
      "cell_type": "code",
      "source": [
        "p1.a"
      ],
      "metadata": {
        "colab": {
          "base_uri": "https://localhost:8080/"
        },
        "id": "lj_13jc2hqN9",
        "outputId": "0c6739f0-df85-4b44-d08d-a4fe6a89c558"
      },
      "execution_count": null,
      "outputs": [
        {
          "output_type": "execute_result",
          "data": {
            "text/plain": [
              "10"
            ]
          },
          "metadata": {},
          "execution_count": 6
        }
      ]
    },
    {
      "cell_type": "code",
      "source": [
        "p1.__b\n",
        "#private attribute is used within the class only"
      ],
      "metadata": {
        "colab": {
          "base_uri": "https://localhost:8080/",
          "height": 166
        },
        "id": "ZALCu3RohtBp",
        "outputId": "20a9c970-17b0-401a-b8eb-8e7ed6036319"
      },
      "execution_count": null,
      "outputs": [
        {
          "output_type": "error",
          "ename": "AttributeError",
          "evalue": "ignored",
          "traceback": [
            "\u001b[0;31m---------------------------------------------------------------------------\u001b[0m",
            "\u001b[0;31mAttributeError\u001b[0m                            Traceback (most recent call last)",
            "\u001b[0;32m<ipython-input-8-6de00f42244a>\u001b[0m in \u001b[0;36m<module>\u001b[0;34m()\u001b[0m\n\u001b[0;32m----> 1\u001b[0;31m \u001b[0mp1\u001b[0m\u001b[0;34m.\u001b[0m\u001b[0mb\u001b[0m\u001b[0;34m\u001b[0m\u001b[0;34m\u001b[0m\u001b[0m\n\u001b[0m",
            "\u001b[0;31mAttributeError\u001b[0m: 'pizza' object has no attribute 'b'"
          ]
        }
      ]
    },
    {
      "cell_type": "code",
      "source": [
        "class person():\n",
        "  def __init__(self,name,age):\n",
        "    self.name=name\n",
        "    self.age=age\n",
        "\n",
        "  def getName(self):\n",
        "    return self.name\n",
        "\n",
        "  def getAge(self):\n",
        "    return self.age\n",
        "\n",
        "  def getSalary(self):\n",
        "    return \"20k\"\n",
        "\n",
        "p=person(\"xyz\",30)\n",
        "p.getName()"
      ],
      "metadata": {
        "colab": {
          "base_uri": "https://localhost:8080/",
          "height": 35
        },
        "id": "zWFRiDWGh5mf",
        "outputId": "ffd7ca9e-e45e-4b86-c12b-888ae3bc2e7a"
      },
      "execution_count": null,
      "outputs": [
        {
          "output_type": "execute_result",
          "data": {
            "text/plain": [
              "'xyz'"
            ],
            "application/vnd.google.colaboratory.intrinsic+json": {
              "type": "string"
            }
          },
          "metadata": {},
          "execution_count": 12
        }
      ]
    },
    {
      "cell_type": "code",
      "source": [
        "class teacher(person):\n",
        "  subject=\"oops\"\n",
        "\n",
        "  def getSalary(self):\n",
        "    return 50000\n",
        "\n",
        "t=teacher(\"abc\",25)\n",
        "t.age"
      ],
      "metadata": {
        "colab": {
          "base_uri": "https://localhost:8080/"
        },
        "id": "30EX-h7XiEky",
        "outputId": "536d7c68-34fc-4244-f892-6262a003a9c6"
      },
      "execution_count": null,
      "outputs": [
        {
          "output_type": "execute_result",
          "data": {
            "text/plain": [
              "25"
            ]
          },
          "metadata": {},
          "execution_count": 13
        }
      ]
    },
    {
      "cell_type": "code",
      "source": [
        "t.getSalary()"
      ],
      "metadata": {
        "colab": {
          "base_uri": "https://localhost:8080/"
        },
        "id": "DHJlDu7BjTjh",
        "outputId": "20e4b653-b092-4873-9828-928b086b17a1"
      },
      "execution_count": null,
      "outputs": [
        {
          "output_type": "execute_result",
          "data": {
            "text/plain": [
              "50000"
            ]
          },
          "metadata": {},
          "execution_count": 14
        }
      ]
    },
    {
      "cell_type": "code",
      "source": [
        "class teacher(person):\n",
        "  def __init__(self,subject):\n",
        "    self.subject=subject\n",
        "\n",
        "  def getSalary(self):\n",
        "    return 50000\n",
        "\n",
        "t=teacher(\"oops\")\n",
        "t.getSalary()\n",
        "t.age"
      ],
      "metadata": {
        "colab": {
          "base_uri": "https://localhost:8080/",
          "height": 201
        },
        "id": "4wal1B_zjZH4",
        "outputId": "0e0b0ec9-e434-4494-861c-b2910c025de1"
      },
      "execution_count": null,
      "outputs": [
        {
          "output_type": "error",
          "ename": "AttributeError",
          "evalue": "ignored",
          "traceback": [
            "\u001b[0;31m---------------------------------------------------------------------------\u001b[0m",
            "\u001b[0;31mAttributeError\u001b[0m                            Traceback (most recent call last)",
            "\u001b[0;32m<ipython-input-17-caa0b567c500>\u001b[0m in \u001b[0;36m<module>\u001b[0;34m()\u001b[0m\n\u001b[1;32m      8\u001b[0m \u001b[0mt\u001b[0m\u001b[0;34m=\u001b[0m\u001b[0mteacher\u001b[0m\u001b[0;34m(\u001b[0m\u001b[0;34m\"oops\"\u001b[0m\u001b[0;34m)\u001b[0m\u001b[0;34m\u001b[0m\u001b[0;34m\u001b[0m\u001b[0m\n\u001b[1;32m      9\u001b[0m \u001b[0mt\u001b[0m\u001b[0;34m.\u001b[0m\u001b[0mgetSalary\u001b[0m\u001b[0;34m(\u001b[0m\u001b[0;34m)\u001b[0m\u001b[0;34m\u001b[0m\u001b[0;34m\u001b[0m\u001b[0m\n\u001b[0;32m---> 10\u001b[0;31m \u001b[0mt\u001b[0m\u001b[0;34m.\u001b[0m\u001b[0mage\u001b[0m\u001b[0;34m\u001b[0m\u001b[0;34m\u001b[0m\u001b[0m\n\u001b[0m",
            "\u001b[0;31mAttributeError\u001b[0m: 'teacher' object has no attribute 'age'"
          ]
        }
      ]
    },
    {
      "cell_type": "code",
      "source": [
        "class teacher(person):\n",
        "  def __init__(self,subject,name,age):\n",
        "    super().__init__(name,age)\n",
        "    self.subject=subject\n",
        "\n",
        "  def getSalary(self):\n",
        "    return 50000\n",
        "\n",
        "t=teacher(\"xyz\",\"oops\",25)\n",
        "t.getSalary()"
      ],
      "metadata": {
        "colab": {
          "base_uri": "https://localhost:8080/"
        },
        "id": "oIiid2e6kXNc",
        "outputId": "9d76f24f-6e10-48a5-a2ca-a8409d32e6c7"
      },
      "execution_count": null,
      "outputs": [
        {
          "output_type": "execute_result",
          "data": {
            "text/plain": [
              "50000"
            ]
          },
          "metadata": {},
          "execution_count": 22
        }
      ]
    },
    {
      "cell_type": "code",
      "source": [
        "\n",
        "t.age"
      ],
      "metadata": {
        "colab": {
          "base_uri": "https://localhost:8080/"
        },
        "id": "9O7OYfESkndC",
        "outputId": "a0bf5c06-abf1-4c6e-c519-b63d0e0f6418"
      },
      "execution_count": null,
      "outputs": [
        {
          "output_type": "execute_result",
          "data": {
            "text/plain": [
              "25"
            ]
          },
          "metadata": {},
          "execution_count": 23
        }
      ]
    },
    {
      "cell_type": "code",
      "source": [
        "class a():\n",
        "  def __init__(self,s1):\n",
        "    self.str1=s1\n",
        "\n",
        "class b():\n",
        "  def __init__(self,s2):\n",
        "    self.str2=s2\n",
        "\n",
        "class c(a,b):\n",
        "  def __init__(self,s1,s2,s3):\n",
        "    a.__init__(self,s1)\n",
        "    b.__init__(self,s2)\n",
        "    self.str3=s3\n",
        "\n",
        "  def getstr(self):\n",
        "    print(self.str1,self.str2,self.str3)\n",
        "\n",
        "c=c(\"abc\",\"xyz\",\"pqr\")\n",
        "c.getstr()"
      ],
      "metadata": {
        "colab": {
          "base_uri": "https://localhost:8080/"
        },
        "id": "k5QOdounk0D4",
        "outputId": "4ee5b380-68dc-4f13-ffcc-03baa591a435"
      },
      "execution_count": null,
      "outputs": [
        {
          "output_type": "stream",
          "name": "stdout",
          "text": [
            "abc xyz pqr\n"
          ]
        }
      ]
    },
    {
      "cell_type": "code",
      "source": [
        "def area(r):\n",
        "  return 3.14*r*r\n",
        "\n",
        "def area(a,b):\n",
        "  return a*b\n",
        "\n",
        "area(2,3)"
      ],
      "metadata": {
        "colab": {
          "base_uri": "https://localhost:8080/"
        },
        "id": "pPJ6TeHEndOc",
        "outputId": "4a04040b-a0c3-4af7-93f9-a8f78ea20094"
      },
      "execution_count": null,
      "outputs": [
        {
          "output_type": "execute_result",
          "data": {
            "text/plain": [
              "6"
            ]
          },
          "metadata": {},
          "execution_count": 26
        }
      ]
    },
    {
      "cell_type": "code",
      "source": [
        "area(3)\n",
        "#compile line by line only"
      ],
      "metadata": {
        "colab": {
          "base_uri": "https://localhost:8080/",
          "height": 166
        },
        "id": "MSXKPElPovbK",
        "outputId": "84599f0a-cd4f-4f0d-9cb5-d741cf4d3f13"
      },
      "execution_count": null,
      "outputs": [
        {
          "output_type": "error",
          "ename": "TypeError",
          "evalue": "ignored",
          "traceback": [
            "\u001b[0;31m---------------------------------------------------------------------------\u001b[0m",
            "\u001b[0;31mTypeError\u001b[0m                                 Traceback (most recent call last)",
            "\u001b[0;32m<ipython-input-27-4573a7db484b>\u001b[0m in \u001b[0;36m<module>\u001b[0;34m()\u001b[0m\n\u001b[0;32m----> 1\u001b[0;31m \u001b[0marea\u001b[0m\u001b[0;34m(\u001b[0m\u001b[0;36m3\u001b[0m\u001b[0;34m)\u001b[0m\u001b[0;34m\u001b[0m\u001b[0;34m\u001b[0m\u001b[0m\n\u001b[0m",
            "\u001b[0;31mTypeError\u001b[0m: area() missing 1 required positional argument: 'b'"
          ]
        }
      ]
    },
    {
      "cell_type": "code",
      "source": [
        "issubclass(teacher,person)"
      ],
      "metadata": {
        "colab": {
          "base_uri": "https://localhost:8080/"
        },
        "id": "GHaIqAIto4ZL",
        "outputId": "73b9e82b-3cdc-4f51-d88e-250cad12f1f8"
      },
      "execution_count": null,
      "outputs": [
        {
          "output_type": "execute_result",
          "data": {
            "text/plain": [
              "True"
            ]
          },
          "metadata": {},
          "execution_count": 28
        }
      ]
    },
    {
      "cell_type": "code",
      "source": [
        "isinstance(p,person)"
      ],
      "metadata": {
        "colab": {
          "base_uri": "https://localhost:8080/"
        },
        "id": "iMYig0x2pA_A",
        "outputId": "7e9068bb-0e9f-4be2-decf-934b853745b4"
      },
      "execution_count": null,
      "outputs": [
        {
          "output_type": "execute_result",
          "data": {
            "text/plain": [
              "True"
            ]
          },
          "metadata": {},
          "execution_count": 29
        }
      ]
    },
    {
      "cell_type": "code",
      "source": [
        "class person():\n",
        "    def __init__(self,name,age,city):\n",
        "        self.name=name\n",
        "        self.age=age\n",
        "        self.city=city\n",
        "\n",
        "    def getname(self):\n",
        "        return self.name\n",
        "\n",
        "class employee(person):\n",
        "    def __init__(self,name,age,city,empid,exp):\n",
        "        super().__init__(name,age,city)\n",
        "        self.empid=empid\n",
        "        self.exp=exp\n",
        "\n",
        "    def getsalary(self):\n",
        "        return 20000\n",
        "                 \n",
        "class accountant(employee):\n",
        "    def __init__(self,name,age,city,empid,exp,hour,hour_rent):\n",
        "        super().__init__(name,age,city,empid,exp)\n",
        "        self.hour=hour\n",
        "        self.hour_rent=hour_rent\n",
        "\n",
        "    def getsalary(self):\n",
        "        print(self.name,\"has received $\",self.hour*self.hour_rent)\n",
        "\n",
        "acc = accountant('ishan',23,'vya',1,10,3,200)\n",
        "acc.getsalary()\n"
      ],
      "metadata": {
        "colab": {
          "base_uri": "https://localhost:8080/"
        },
        "id": "Uo0ukWV1pRRu",
        "outputId": "66db3f94-fde4-49b9-8935-af10196f8365"
      },
      "execution_count": null,
      "outputs": [
        {
          "output_type": "stream",
          "name": "stdout",
          "text": [
            "ishan has received $ 600\n"
          ]
        }
      ]
    },
    {
      "cell_type": "code",
      "source": [
        ""
      ],
      "metadata": {
        "id": "SSqN4JO0x9op"
      },
      "execution_count": null,
      "outputs": []
    }
  ]
}