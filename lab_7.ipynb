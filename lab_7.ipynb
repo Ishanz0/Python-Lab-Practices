{
  "nbformat": 4,
  "nbformat_minor": 0,
  "metadata": {
    "colab": {
      "name": "lab-7.ipynb",
      "provenance": [],
      "collapsed_sections": []
    },
    "kernelspec": {
      "name": "python3",
      "display_name": "Python 3"
    },
    "language_info": {
      "name": "python"
    }
  },
  "cells": [
    {
      "cell_type": "code",
      "execution_count": null,
      "metadata": {
        "id": "SYHlX5EmUP_C"
      },
      "outputs": [],
      "source": [
        "asp=open(\"az.txt\",\"r\")\n",
        "d=asp.read()  "
      ]
    },
    {
      "cell_type": "code",
      "source": [
        "l=d.split()"
      ],
      "metadata": {
        "id": "auqnB-skV3uc"
      },
      "execution_count": null,
      "outputs": []
    },
    {
      "cell_type": "code",
      "source": [
        "words=0"
      ],
      "metadata": {
        "id": "BiYm5yAJV7Jf"
      },
      "execution_count": null,
      "outputs": []
    },
    {
      "cell_type": "code",
      "source": [
        "words=words+len(l)"
      ],
      "metadata": {
        "id": "BJLUYieIV98Q"
      },
      "execution_count": null,
      "outputs": []
    },
    {
      "cell_type": "code",
      "source": [
        "words"
      ],
      "metadata": {
        "colab": {
          "base_uri": "https://localhost:8080/"
        },
        "id": "F8wVs0EsWBIF",
        "outputId": "38c7ecbb-95ba-450b-c9b7-0d30f8aa6a2a"
      },
      "execution_count": null,
      "outputs": [
        {
          "output_type": "execute_result",
          "data": {
            "text/plain": [
              "235"
            ]
          },
          "metadata": {},
          "execution_count": 5
        }
      ]
    },
    {
      "cell_type": "code",
      "source": [
        "a=dict()"
      ],
      "metadata": {
        "id": "v_ddDZbwXOxI"
      },
      "execution_count": null,
      "outputs": []
    },
    {
      "cell_type": "code",
      "source": [
        "for ls in l:\n",
        "  if ls in a:\n",
        "    a[ls] = a[ls] + 1\n",
        "  else:\n",
        "    a[ls] = 1"
      ],
      "metadata": {
        "id": "Or5aJ3mkX5_t"
      },
      "execution_count": null,
      "outputs": []
    },
    {
      "cell_type": "code",
      "source": [
        "print(a)"
      ],
      "metadata": {
        "colab": {
          "base_uri": "https://localhost:8080/"
        },
        "id": "elwMF8B5cgQO",
        "outputId": "9bd9df83-ad17-4147-a229-373e3d5912e4"
      },
      "execution_count": null,
      "outputs": [
        {
          "output_type": "stream",
          "name": "stdout",
          "text": [
            "{'Musk': 4, 'took': 2, 'an': 1, 'active': 1, 'role': 1, 'within': 1, 'the': 13, 'company': 3, 'and': 5, 'oversaw': 1, 'Roadster': 1, 'product': 1, 'design': 1, 'at': 4, 'a': 3, 'detailed': 1, 'level,': 1, 'but': 1, 'was': 4, 'not': 1, 'deeply': 1, 'involved': 1, 'in': 7, 'day-to-day': 1, 'business': 1, 'operations.[16]': 1, 'From': 1, 'beginning,': 1, 'consistently': 1, 'maintained': 1, 'that': 1, \"Tesla's\": 3, 'long-term': 1, 'goal': 1, 'to': 6, 'create': 1, 'affordable': 2, 'mass': 1, 'market': 1, 'electric': 1, 'vehicles.[17]': 1, 'The': 1, \"company's\": 1, 'strategy': 1, 'start': 1, 'with': 1, 'premium': 1, 'sports': 1, 'car': 1, 'aimed': 1, 'early': 1, 'adopters': 1, 'then': 2, 'move': 1, 'into': 1, 'more': 1, 'mainstream': 1, 'vehicles,': 1, 'including': 2, 'sedans': 1, 'compacts.[18]': 1, 'In': 2, 'February': 1, '2006,': 2, 'led': 2, 'Series': 1, 'B': 1, 'venture': 1, 'capital': 1, 'funding': 2, 'round': 3, 'of': 6, '$13': 1, 'million,': 1, 'which': 2, 'added': 1, 'Valor': 1, 'Equity': 1, 'Partners': 1, 'team.[19][14]': 1, 'co-led': 1, 'third,': 1, '$40': 1, 'million': 2, 'May': 2, '2006': 1, 'saw': 1, 'investment': 2, 'from': 1, 'prominent': 1, 'entrepreneurs': 1, 'Google': 1, 'co-founders': 1, 'Sergey': 1, 'Brin': 1, 'Larry': 1, 'Page,': 1, 'former': 1, 'eBay': 1, 'President': 2, 'Jeff': 1, 'Skoll.[20]': 1, 'A': 1, 'fourth': 1, 'worth': 1, '$45': 1, '2007': 1, 'brought': 1, 'total': 1, 'private': 1, 'financing': 1, 'over': 1, '$105': 1, 'million.[20]': 1, 'Prototypes': 1, 'first': 1, 'car,': 1, 'Roadster,': 1, 'were': 1, 'officially': 1, 'revealed': 1, 'public': 1, 'on': 1, 'July': 1, '19,': 1, 'Santa': 2, 'Monica,': 1, 'California,': 1, '350-person': 1, 'invitation-only': 1, 'event': 1, 'held': 1, 'Barker': 1, 'Hangar': 1, 'Monica': 1, 'Airport.[21]': 1, 'August': 1, '2007,': 1, 'Eberhard': 2, 'asked': 1, 'by': 2, 'board,': 1, 'Elon': 1, 'Musk,': 1, 'step': 1, 'down': 1, 'as': 2, 'CEO.[22]': 1, 'title': 1, '\"President': 1, 'Technology\"': 1, 'before': 1, 'ultimately': 1, 'leaving': 1, 'January': 2, '2008.': 2, 'Co-founder': 1, 'Marc': 1, 'Tarpenning,': 1, 'who': 1, 'served': 1, 'Vice': 1, 'Electrical': 1, 'Engineering': 1, 'company,': 1, 'also': 1, 'left': 1}\n"
          ]
        }
      ]
    },
    {
      "cell_type": "code",
      "source": [
        "for key in list(a.keys()):\n",
        "  print(key, \":\" , a[key])"
      ],
      "metadata": {
        "colab": {
          "base_uri": "https://localhost:8080/"
        },
        "id": "xWxdD4avYfHt",
        "outputId": "62512c3c-1ebc-47ad-fb29-57ebe9aa0b74"
      },
      "execution_count": null,
      "outputs": [
        {
          "output_type": "stream",
          "name": "stdout",
          "text": [
            "Musk : 4\n",
            "took : 2\n",
            "an : 1\n",
            "active : 1\n",
            "role : 1\n",
            "within : 1\n",
            "the : 13\n",
            "company : 3\n",
            "and : 5\n",
            "oversaw : 1\n",
            "Roadster : 1\n",
            "product : 1\n",
            "design : 1\n",
            "at : 4\n",
            "a : 3\n",
            "detailed : 1\n",
            "level, : 1\n",
            "but : 1\n",
            "was : 4\n",
            "not : 1\n",
            "deeply : 1\n",
            "involved : 1\n",
            "in : 7\n",
            "day-to-day : 1\n",
            "business : 1\n",
            "operations.[16] : 1\n",
            "From : 1\n",
            "beginning, : 1\n",
            "consistently : 1\n",
            "maintained : 1\n",
            "that : 1\n",
            "Tesla's : 3\n",
            "long-term : 1\n",
            "goal : 1\n",
            "to : 6\n",
            "create : 1\n",
            "affordable : 2\n",
            "mass : 1\n",
            "market : 1\n",
            "electric : 1\n",
            "vehicles.[17] : 1\n",
            "The : 1\n",
            "company's : 1\n",
            "strategy : 1\n",
            "start : 1\n",
            "with : 1\n",
            "premium : 1\n",
            "sports : 1\n",
            "car : 1\n",
            "aimed : 1\n",
            "early : 1\n",
            "adopters : 1\n",
            "then : 2\n",
            "move : 1\n",
            "into : 1\n",
            "more : 1\n",
            "mainstream : 1\n",
            "vehicles, : 1\n",
            "including : 2\n",
            "sedans : 1\n",
            "compacts.[18] : 1\n",
            "In : 2\n",
            "February : 1\n",
            "2006, : 2\n",
            "led : 2\n",
            "Series : 1\n",
            "B : 1\n",
            "venture : 1\n",
            "capital : 1\n",
            "funding : 2\n",
            "round : 3\n",
            "of : 6\n",
            "$13 : 1\n",
            "million, : 1\n",
            "which : 2\n",
            "added : 1\n",
            "Valor : 1\n",
            "Equity : 1\n",
            "Partners : 1\n",
            "team.[19][14] : 1\n",
            "co-led : 1\n",
            "third, : 1\n",
            "$40 : 1\n",
            "million : 2\n",
            "May : 2\n",
            "2006 : 1\n",
            "saw : 1\n",
            "investment : 2\n",
            "from : 1\n",
            "prominent : 1\n",
            "entrepreneurs : 1\n",
            "Google : 1\n",
            "co-founders : 1\n",
            "Sergey : 1\n",
            "Brin : 1\n",
            "Larry : 1\n",
            "Page, : 1\n",
            "former : 1\n",
            "eBay : 1\n",
            "President : 2\n",
            "Jeff : 1\n",
            "Skoll.[20] : 1\n",
            "A : 1\n",
            "fourth : 1\n",
            "worth : 1\n",
            "$45 : 1\n",
            "2007 : 1\n",
            "brought : 1\n",
            "total : 1\n",
            "private : 1\n",
            "financing : 1\n",
            "over : 1\n",
            "$105 : 1\n",
            "million.[20] : 1\n",
            "Prototypes : 1\n",
            "first : 1\n",
            "car, : 1\n",
            "Roadster, : 1\n",
            "were : 1\n",
            "officially : 1\n",
            "revealed : 1\n",
            "public : 1\n",
            "on : 1\n",
            "July : 1\n",
            "19, : 1\n",
            "Santa : 2\n",
            "Monica, : 1\n",
            "California, : 1\n",
            "350-person : 1\n",
            "invitation-only : 1\n",
            "event : 1\n",
            "held : 1\n",
            "Barker : 1\n",
            "Hangar : 1\n",
            "Monica : 1\n",
            "Airport.[21] : 1\n",
            "August : 1\n",
            "2007, : 1\n",
            "Eberhard : 2\n",
            "asked : 1\n",
            "by : 2\n",
            "board, : 1\n",
            "Elon : 1\n",
            "Musk, : 1\n",
            "step : 1\n",
            "down : 1\n",
            "as : 2\n",
            "CEO.[22] : 1\n",
            "title : 1\n",
            "\"President : 1\n",
            "Technology\" : 1\n",
            "before : 1\n",
            "ultimately : 1\n",
            "leaving : 1\n",
            "January : 2\n",
            "2008. : 2\n",
            "Co-founder : 1\n",
            "Marc : 1\n",
            "Tarpenning, : 1\n",
            "who : 1\n",
            "served : 1\n",
            "Vice : 1\n",
            "Electrical : 1\n",
            "Engineering : 1\n",
            "company, : 1\n",
            "also : 1\n",
            "left : 1\n"
          ]
        }
      ]
    },
    {
      "cell_type": "code",
      "source": [
        "asp1=open(\"ax.txt\",\"r\")\n",
        "n=asp1.read() "
      ],
      "metadata": {
        "id": "XsDKHpRNa9tj"
      },
      "execution_count": null,
      "outputs": []
    },
    {
      "cell_type": "code",
      "source": [
        "b=n.split()"
      ],
      "metadata": {
        "id": "56QVeKe8bLOs"
      },
      "execution_count": null,
      "outputs": []
    },
    {
      "cell_type": "code",
      "source": [
        "w = 0"
      ],
      "metadata": {
        "id": "KO4Gw9oubUHs"
      },
      "execution_count": null,
      "outputs": []
    },
    {
      "cell_type": "code",
      "source": [
        "w = w + len(b)"
      ],
      "metadata": {
        "id": "RgFk8jnObVni"
      },
      "execution_count": null,
      "outputs": []
    },
    {
      "cell_type": "code",
      "source": [
        "w"
      ],
      "metadata": {
        "colab": {
          "base_uri": "https://localhost:8080/"
        },
        "id": "m2Q6cl-TbcMl",
        "outputId": "b9bd8ec6-3fc3-4ce4-be00-668eedfad7d9"
      },
      "execution_count": null,
      "outputs": [
        {
          "output_type": "execute_result",
          "data": {
            "text/plain": [
              "184"
            ]
          },
          "metadata": {},
          "execution_count": 15
        }
      ]
    },
    {
      "cell_type": "code",
      "source": [
        "s = dict()"
      ],
      "metadata": {
        "id": "UwQ0hagnbhLB"
      },
      "execution_count": null,
      "outputs": []
    },
    {
      "cell_type": "code",
      "source": [
        "for la in b:\n",
        "  if la in s:\n",
        "    s[la] = s[la] + 1\n",
        "  else:\n",
        "    s[la] = 1"
      ],
      "metadata": {
        "id": "G_Okc2L9blCJ"
      },
      "execution_count": null,
      "outputs": []
    },
    {
      "cell_type": "code",
      "source": [
        "for k in list(s.keys()):\n",
        "  print(k, \":\" , s[k])"
      ],
      "metadata": {
        "colab": {
          "base_uri": "https://localhost:8080/"
        },
        "id": "ldkBB8xzb5vE",
        "outputId": "7bc88e47-4047-41c7-f103-8a51f2906b12"
      },
      "execution_count": null,
      "outputs": [
        {
          "output_type": "stream",
          "name": "stdout",
          "text": [
            "Space : 3\n",
            "Exploration : 1\n",
            "Technologies : 1\n",
            "Corp. : 1\n",
            "(doing : 1\n",
            "business : 1\n",
            "as : 1\n",
            "SpaceX) : 1\n",
            "is : 2\n",
            "an : 3\n",
            "American : 1\n",
            "aerospace : 1\n",
            "manufacturer, : 1\n",
            "a : 5\n",
            "provider : 1\n",
            "of : 5\n",
            "space : 2\n",
            "transportation : 2\n",
            "services, : 1\n",
            "and : 7\n",
            "communications : 2\n",
            "corporation : 1\n",
            "headquartered : 1\n",
            "in : 2\n",
            "Hawthorne, : 1\n",
            "California. : 1\n",
            "SpaceX : 4\n",
            "was : 1\n",
            "founded : 1\n",
            "2002 : 1\n",
            "by : 1\n",
            "Elon : 1\n",
            "Musk : 1\n",
            "with : 1\n",
            "the : 14\n",
            "goal : 1\n",
            "reducing : 1\n",
            "costs : 1\n",
            "to : 9\n",
            "enable : 1\n",
            "colonization : 1\n",
            "Mars. : 1\n",
            "manufactures : 1\n",
            "Falcon : 3\n",
            "9 : 2\n",
            "Heavy : 1\n",
            "launch : 1\n",
            "vehicles, : 1\n",
            "several : 1\n",
            "rocket : 2\n",
            "engines, : 1\n",
            "Cargo : 1\n",
            "Dragon, : 1\n",
            "crew : 1\n",
            "spacecraft, : 2\n",
            "Starlink : 3\n",
            "satellites. : 1\n",
            "SpaceX's : 1\n",
            "achievements : 1\n",
            "include : 1\n",
            "first : 6\n",
            "privately : 1\n",
            "funded : 1\n",
            "liquid-propellant : 1\n",
            "reach : 1\n",
            "orbit : 2\n",
            "around : 1\n",
            "Earth, : 1\n",
            "private : 3\n",
            "company : 3\n",
            "successfully : 1\n",
            "launch, : 1\n",
            "orbit, : 1\n",
            "recover : 1\n",
            "send : 2\n",
            "spacecraft : 1\n",
            "International : 2\n",
            "Station, : 1\n",
            "vertical : 2\n",
            "take-off : 1\n",
            "propulsive : 1\n",
            "landing : 1\n",
            "for : 1\n",
            "orbital : 2\n",
            "rocket, : 2\n",
            "reuse : 1\n",
            "astronauts : 1\n",
            "Station. : 1\n",
            "has : 1\n",
            "flown : 1\n",
            "series : 1\n",
            "rockets : 1\n",
            "over : 1\n",
            "one : 1\n",
            "hundred : 1\n",
            "times. : 1\n",
            "developing : 1\n",
            "satellite : 2\n",
            "internet : 2\n",
            "constellation : 3\n",
            "named : 1\n",
            "provide : 1\n",
            "commercial : 1\n",
            "service. : 1\n",
            "In : 1\n",
            "January : 1\n",
            "2020, : 1\n",
            "became : 1\n",
            "largest : 1\n",
            "ever : 1\n",
            "launched. : 1\n"
          ]
        }
      ]
    },
    {
      "cell_type": "code",
      "source": [
        "\n"
      ],
      "metadata": {
        "id": "qvliOMoDcCLL"
      },
      "execution_count": null,
      "outputs": []
    },
    {
      "cell_type": "code",
      "source": [
        ""
      ],
      "metadata": {
        "id": "48Ge2frbclpi"
      },
      "execution_count": null,
      "outputs": []
    },
    {
      "cell_type": "code",
      "source": [
        "temp=[]\n",
        "\n",
        "for key,val in a.items():\n",
        "  if key not in temp:\n",
        "    temp.append(key)\n",
        "temp"
      ],
      "metadata": {
        "colab": {
          "base_uri": "https://localhost:8080/"
        },
        "id": "VuwubByqevsl",
        "outputId": "48378baa-f7d5-4cc3-d3ab-55c6bd34934f"
      },
      "execution_count": null,
      "outputs": [
        {
          "output_type": "execute_result",
          "data": {
            "text/plain": [
              "['Musk',\n",
              " 'took',\n",
              " 'an',\n",
              " 'active',\n",
              " 'role',\n",
              " 'within',\n",
              " 'the',\n",
              " 'company',\n",
              " 'and',\n",
              " 'oversaw',\n",
              " 'Roadster',\n",
              " 'product',\n",
              " 'design',\n",
              " 'at',\n",
              " 'a',\n",
              " 'detailed',\n",
              " 'level,',\n",
              " 'but',\n",
              " 'was',\n",
              " 'not',\n",
              " 'deeply',\n",
              " 'involved',\n",
              " 'in',\n",
              " 'day-to-day',\n",
              " 'business',\n",
              " 'operations.[16]',\n",
              " 'From',\n",
              " 'beginning,',\n",
              " 'consistently',\n",
              " 'maintained',\n",
              " 'that',\n",
              " \"Tesla's\",\n",
              " 'long-term',\n",
              " 'goal',\n",
              " 'to',\n",
              " 'create',\n",
              " 'affordable',\n",
              " 'mass',\n",
              " 'market',\n",
              " 'electric',\n",
              " 'vehicles.[17]',\n",
              " 'The',\n",
              " \"company's\",\n",
              " 'strategy',\n",
              " 'start',\n",
              " 'with',\n",
              " 'premium',\n",
              " 'sports',\n",
              " 'car',\n",
              " 'aimed',\n",
              " 'early',\n",
              " 'adopters',\n",
              " 'then',\n",
              " 'move',\n",
              " 'into',\n",
              " 'more',\n",
              " 'mainstream',\n",
              " 'vehicles,',\n",
              " 'including',\n",
              " 'sedans',\n",
              " 'compacts.[18]',\n",
              " 'In',\n",
              " 'February',\n",
              " '2006,',\n",
              " 'led',\n",
              " 'Series',\n",
              " 'B',\n",
              " 'venture',\n",
              " 'capital',\n",
              " 'funding',\n",
              " 'round',\n",
              " 'of',\n",
              " '$13',\n",
              " 'million,',\n",
              " 'which',\n",
              " 'added',\n",
              " 'Valor',\n",
              " 'Equity',\n",
              " 'Partners',\n",
              " 'team.[19][14]',\n",
              " 'co-led',\n",
              " 'third,',\n",
              " '$40',\n",
              " 'million',\n",
              " 'May',\n",
              " '2006',\n",
              " 'saw',\n",
              " 'investment',\n",
              " 'from',\n",
              " 'prominent',\n",
              " 'entrepreneurs',\n",
              " 'Google',\n",
              " 'co-founders',\n",
              " 'Sergey',\n",
              " 'Brin',\n",
              " 'Larry',\n",
              " 'Page,',\n",
              " 'former',\n",
              " 'eBay',\n",
              " 'President',\n",
              " 'Jeff',\n",
              " 'Skoll.[20]',\n",
              " 'A',\n",
              " 'fourth',\n",
              " 'worth',\n",
              " '$45',\n",
              " '2007',\n",
              " 'brought',\n",
              " 'total',\n",
              " 'private',\n",
              " 'financing',\n",
              " 'over',\n",
              " '$105',\n",
              " 'million.[20]',\n",
              " 'Prototypes',\n",
              " 'first',\n",
              " 'car,',\n",
              " 'Roadster,',\n",
              " 'were',\n",
              " 'officially',\n",
              " 'revealed',\n",
              " 'public',\n",
              " 'on',\n",
              " 'July',\n",
              " '19,',\n",
              " 'Santa',\n",
              " 'Monica,',\n",
              " 'California,',\n",
              " '350-person',\n",
              " 'invitation-only',\n",
              " 'event',\n",
              " 'held',\n",
              " 'Barker',\n",
              " 'Hangar',\n",
              " 'Monica',\n",
              " 'Airport.[21]',\n",
              " 'August',\n",
              " '2007,',\n",
              " 'Eberhard',\n",
              " 'asked',\n",
              " 'by',\n",
              " 'board,',\n",
              " 'Elon',\n",
              " 'Musk,',\n",
              " 'step',\n",
              " 'down',\n",
              " 'as',\n",
              " 'CEO.[22]',\n",
              " 'title',\n",
              " '\"President',\n",
              " 'Technology\"',\n",
              " 'before',\n",
              " 'ultimately',\n",
              " 'leaving',\n",
              " 'January',\n",
              " '2008.',\n",
              " 'Co-founder',\n",
              " 'Marc',\n",
              " 'Tarpenning,',\n",
              " 'who',\n",
              " 'served',\n",
              " 'Vice',\n",
              " 'Electrical',\n",
              " 'Engineering',\n",
              " 'company,',\n",
              " 'also',\n",
              " 'left']"
            ]
          },
          "metadata": {},
          "execution_count": 27
        }
      ]
    },
    {
      "cell_type": "code",
      "source": [
        "temp1=[]\n",
        "\n",
        "for key1,val1 in s.items():\n",
        "  if key1 not in temp1:\n",
        "    temp1.append(key1)\n",
        "temp1"
      ],
      "metadata": {
        "colab": {
          "base_uri": "https://localhost:8080/"
        },
        "id": "1y0lWEALfRHR",
        "outputId": "c11af372-94e3-4acf-a90d-7cad88812887"
      },
      "execution_count": null,
      "outputs": [
        {
          "output_type": "execute_result",
          "data": {
            "text/plain": [
              "['Space',\n",
              " 'Exploration',\n",
              " 'Technologies',\n",
              " 'Corp.',\n",
              " '(doing',\n",
              " 'business',\n",
              " 'as',\n",
              " 'SpaceX)',\n",
              " 'is',\n",
              " 'an',\n",
              " 'American',\n",
              " 'aerospace',\n",
              " 'manufacturer,',\n",
              " 'a',\n",
              " 'provider',\n",
              " 'of',\n",
              " 'space',\n",
              " 'transportation',\n",
              " 'services,',\n",
              " 'and',\n",
              " 'communications',\n",
              " 'corporation',\n",
              " 'headquartered',\n",
              " 'in',\n",
              " 'Hawthorne,',\n",
              " 'California.',\n",
              " 'SpaceX',\n",
              " 'was',\n",
              " 'founded',\n",
              " '2002',\n",
              " 'by',\n",
              " 'Elon',\n",
              " 'Musk',\n",
              " 'with',\n",
              " 'the',\n",
              " 'goal',\n",
              " 'reducing',\n",
              " 'costs',\n",
              " 'to',\n",
              " 'enable',\n",
              " 'colonization',\n",
              " 'Mars.',\n",
              " 'manufactures',\n",
              " 'Falcon',\n",
              " '9',\n",
              " 'Heavy',\n",
              " 'launch',\n",
              " 'vehicles,',\n",
              " 'several',\n",
              " 'rocket',\n",
              " 'engines,',\n",
              " 'Cargo',\n",
              " 'Dragon,',\n",
              " 'crew',\n",
              " 'spacecraft,',\n",
              " 'Starlink',\n",
              " 'satellites.',\n",
              " \"SpaceX's\",\n",
              " 'achievements',\n",
              " 'include',\n",
              " 'first',\n",
              " 'privately',\n",
              " 'funded',\n",
              " 'liquid-propellant',\n",
              " 'reach',\n",
              " 'orbit',\n",
              " 'around',\n",
              " 'Earth,',\n",
              " 'private',\n",
              " 'company',\n",
              " 'successfully',\n",
              " 'launch,',\n",
              " 'orbit,',\n",
              " 'recover',\n",
              " 'send',\n",
              " 'spacecraft',\n",
              " 'International',\n",
              " 'Station,',\n",
              " 'vertical',\n",
              " 'take-off',\n",
              " 'propulsive',\n",
              " 'landing',\n",
              " 'for',\n",
              " 'orbital',\n",
              " 'rocket,',\n",
              " 'reuse',\n",
              " 'astronauts',\n",
              " 'Station.',\n",
              " 'has',\n",
              " 'flown',\n",
              " 'series',\n",
              " 'rockets',\n",
              " 'over',\n",
              " 'one',\n",
              " 'hundred',\n",
              " 'times.',\n",
              " 'developing',\n",
              " 'satellite',\n",
              " 'internet',\n",
              " 'constellation',\n",
              " 'named',\n",
              " 'provide',\n",
              " 'commercial',\n",
              " 'service.',\n",
              " 'In',\n",
              " 'January',\n",
              " '2020,',\n",
              " 'became',\n",
              " 'largest',\n",
              " 'ever',\n",
              " 'launched.']"
            ]
          },
          "metadata": {},
          "execution_count": 28
        }
      ]
    },
    {
      "cell_type": "code",
      "source": [
        "z=0\n",
        "for g in temp:\n",
        "  for y in temp1:\n",
        "    if(g == y):\n",
        "      z=z+1\n",
        "print(z)\n"
      ],
      "metadata": {
        "colab": {
          "base_uri": "https://localhost:8080/"
        },
        "id": "Z_DqGmR1faeb",
        "outputId": "48dde90f-0246-4455-de44-ea7e86e72bb9"
      },
      "execution_count": null,
      "outputs": [
        {
          "output_type": "stream",
          "name": "stdout",
          "text": [
            "22\n"
          ]
        }
      ]
    },
    {
      "cell_type": "code",
      "source": [
        "len(a)"
      ],
      "metadata": {
        "colab": {
          "base_uri": "https://localhost:8080/"
        },
        "id": "227KEbSbgF7g",
        "outputId": "0ba77c0f-d1d9-4d06-a03b-0c966c58980f"
      },
      "execution_count": null,
      "outputs": [
        {
          "output_type": "execute_result",
          "data": {
            "text/plain": [
              "167"
            ]
          },
          "metadata": {},
          "execution_count": 31
        }
      ]
    },
    {
      "cell_type": "code",
      "source": [
        "len(s)"
      ],
      "metadata": {
        "colab": {
          "base_uri": "https://localhost:8080/"
        },
        "id": "AFkjk_lEgaI7",
        "outputId": "3a1a7733-20cf-4419-bdcc-e6a41cd444e0"
      },
      "execution_count": null,
      "outputs": [
        {
          "output_type": "execute_result",
          "data": {
            "text/plain": [
              "111"
            ]
          },
          "metadata": {},
          "execution_count": 32
        }
      ]
    },
    {
      "cell_type": "code",
      "source": [
        "c=z/len(s)*100\n",
        "c"
      ],
      "metadata": {
        "colab": {
          "base_uri": "https://localhost:8080/"
        },
        "id": "ERrIFm-Ngc_F",
        "outputId": "5d89bf4b-e96f-40d0-8ad7-b9bb06e91efa"
      },
      "execution_count": null,
      "outputs": [
        {
          "output_type": "execute_result",
          "data": {
            "text/plain": [
              "19.81981981981982"
            ]
          },
          "metadata": {},
          "execution_count": 34
        }
      ]
    }
  ]
}