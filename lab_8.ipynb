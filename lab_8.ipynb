{
  "nbformat": 4,
  "nbformat_minor": 0,
  "metadata": {
    "colab": {
      "name": "lab-8.ipynb",
      "provenance": []
    },
    "kernelspec": {
      "name": "python3",
      "display_name": "Python 3"
    },
    "language_info": {
      "name": "python"
    }
  },
  "cells": [
    {
      "cell_type": "markdown",
      "source": [
        "Running several threads is similar to running several different programs concurrently, but with the following benefits −\n",
        "\n",
        "Multiple threads within a process share the same data space with the main thread and can therefore share information or communicate with each other more easily than if they were separate processes.\n",
        "\n",
        "Threads sometimes called light-weight processes and they do not require much memory overhead; they are cheaper than processes.\n",
        "\n",
        "Syntax:\n",
        "\n",
        "import threading\n",
        "t1=threading.thread(function1,args for function(in list form)) #creates new thread\n",
        "t2=threading.thread(function2,args for functon(in list form))\n",
        "t1.start()\n",
        "t2.start()\n",
        "t1.join()\n",
        "t2.join()\n",
        "\n"
      ],
      "metadata": {
        "id": "f3mDwtea931d"
      }
    },
    {
      "cell_type": "code",
      "execution_count": 2,
      "metadata": {
        "colab": {
          "base_uri": "https://localhost:8080/"
        },
        "id": "P4fFV34g9mRy",
        "outputId": "b0005036-a2cd-4289-c61c-3bc2754052c9"
      },
      "outputs": [
        {
          "output_type": "stream",
          "name": "stdout",
          "text": [
            "Square: 100\n",
            "Cube: 1000\n",
            "Done!\n"
          ]
        }
      ],
      "source": [
        "# Python program to illustrate the concept \n",
        "# of threading \n",
        "# importing the threading module \n",
        "import threading \n",
        "\n",
        "def print_cube(num): \n",
        "\tprint(\"Cube:\",(num * num * num)) \n",
        "\n",
        "def print_square(num): \n",
        "\tprint(\"Square:\",(num * num)) \n",
        " \n",
        "\t# creating thread \n",
        "t1 = threading.Thread(target=print_square, args=(10,)) \n",
        "t2 = threading.Thread(target=print_cube, args=(10,)) \n",
        "\n",
        "\t# starting thread 1 \n",
        "t1.start() \n",
        "\t# starting thread 2 \n",
        "t2.start() \n",
        "\n",
        "\t# wait until thread 1 is completely executed \n",
        "t1.join() \n",
        "\t# wait until thread 2 is completely executed \n",
        "t2.join() \n",
        "\n",
        "\t# both threads completely executed \n",
        "print(\"Done!\") \n"
      ]
    },
    {
      "cell_type": "markdown",
      "source": [
        "Threading module:\n",
        "\n",
        "threads are part of same process"
      ],
      "metadata": {
        "id": "IIo52xz4-P_3"
      }
    },
    {
      "cell_type": "code",
      "source": [
        "# Python program to illustrate the concept \n",
        "# of threading \n",
        "import threading \n",
        "import os \n",
        "\n",
        "def task1(): \n",
        "\tprint(\"Task 1 assigned to thread:\",threading.current_thread().name) \n",
        "\tprint(\"ID of process running task 1:\",os.getpid()) \n",
        "\n",
        "def task2(): \n",
        "\tprint(\"Task 2 assigned to thread:\",threading.current_thread().name) \n",
        "\tprint(\"ID of process running task 2: \",os.getpid()) \n",
        "\n",
        "# print ID of current process \n",
        "print(\"ID of process running main program:\",os.getpid()) \n",
        "\n",
        "# print name of main thread \n",
        "print(\"Main thread name: \",threading.current_thread().name) \n",
        "\n",
        "# creating threads \n",
        "t1 = threading.Thread(target=task1, name='t1') \n",
        "t2 = threading.Thread(target=task2, name='t2') \n",
        "\n",
        "# starting threads \n",
        "t1.start() \n",
        "t2.start() \n",
        "\n",
        "# wait until all threads finish \n",
        "t1.join() \n",
        "t2.join() "
      ],
      "metadata": {
        "colab": {
          "base_uri": "https://localhost:8080/"
        },
        "id": "Km6TDY8m-RVN",
        "outputId": "fc932071-d52e-4a0d-ae06-4c1048bd9645"
      },
      "execution_count": 3,
      "outputs": [
        {
          "output_type": "stream",
          "name": "stdout",
          "text": [
            "ID of process running main program: 60\n",
            "Main thread name:  MainThread\n",
            "Task 1 assigned to thread: t1\n",
            "ID of process running task 1: 60\n",
            "Task 2 assigned to thread: t2\n",
            "ID of process running task 2:  60\n"
          ]
        }
      ]
    },
    {
      "cell_type": "markdown",
      "source": [
        "# Synchronization in threads\n"
      ],
      "metadata": {
        "id": "hk61PU2k-ZAB"
      }
    },
    {
      "cell_type": "code",
      "source": [
        "#example of race condition. here exoected output for each iteration is 200000 but due to race condition output is different in some iterations\n",
        "\n",
        "import threading\n",
        "\n",
        "# global variable x\n",
        "x = 0\n",
        "\n",
        "def increment():\n",
        "\tglobal x\n",
        "\tx += 1\n",
        "\n",
        "def thread_task():\n",
        "\n",
        "\tfor i in range(1000000):\n",
        "\t\tincrement()\n",
        "\n",
        "def main_task():\n",
        "\tglobal x\n",
        "\t# setting global variable x as 0\n",
        "\tx = 0\n",
        "\n",
        "\t# creating threads\n",
        "\tt1 = threading.Thread(target=thread_task)\n",
        "\tt2 = threading.Thread(target=thread_task)\n",
        "\n",
        "\t# start threads\n",
        "\tt1.start()\n",
        "\tt2.start()\n",
        "\n",
        "\t# wait until threads finish their job\n",
        "\tt1.join()\n",
        "\tt2.join()\n",
        "\n",
        "for i in range(10):\n",
        "\t\tmain_task()\n",
        "\t\tprint(\"Iteration:\",i,\" x =\",x)"
      ],
      "metadata": {
        "colab": {
          "base_uri": "https://localhost:8080/"
        },
        "id": "yMv2vUAl-ebl",
        "outputId": "3bbd163d-36ec-4dce-c263-7aa0e8fb0299"
      },
      "execution_count": 4,
      "outputs": [
        {
          "output_type": "stream",
          "name": "stdout",
          "text": [
            "Iteration: 0  x = 1536737\n",
            "Iteration: 1  x = 1581888\n",
            "Iteration: 2  x = 1554599\n",
            "Iteration: 3  x = 1702475\n",
            "Iteration: 4  x = 1610568\n",
            "Iteration: 5  x = 1518653\n",
            "Iteration: 6  x = 1667237\n",
            "Iteration: 7  x = 1764450\n",
            "Iteration: 8  x = 1616549\n",
            "Iteration: 9  x = 1624664\n"
          ]
        }
      ]
    },
    {
      "cell_type": "markdown",
      "source": [
        "to overcome race condition lock object is created and same lock is passed as argument in both the threads therefore only one of them can access x variable. steps to be followed are\n",
        "\n",
        "create lock object\n",
        "pass lock object as argument of thread function\n",
        "acquire lock before entering critical section\n",
        "releas lock while exiting critical section"
      ],
      "metadata": {
        "id": "GLFlUf5u-nw1"
      }
    },
    {
      "cell_type": "code",
      "source": [
        "import threading \n",
        "\n",
        "# global variable x \n",
        "x = 0\n",
        "\n",
        "def increment(): \n",
        "\tglobal x \n",
        "\tx += 1\n",
        "\n",
        "def thread_task(lock): \n",
        "\tfor i in range(100000): \n",
        "\t\tlock.acquire() \n",
        "\t\tincrement() \n",
        "\t\tlock.release() \n",
        "\n",
        "def main_task(): \n",
        "\tglobal x \n",
        "\t# setting global variable x as 0 \n",
        "\tx = 0\n",
        "\n",
        "\t# creating a lock \n",
        "\tlock = threading.Lock() \n",
        "\n",
        "\t# creating threads \n",
        "\tt1 = threading.Thread(target=thread_task, args=(lock,)) \n",
        "\tt2 = threading.Thread(target=thread_task, args=(lock,)) \n",
        "\n",
        "\t# start threads \n",
        "\tt1.start() \n",
        "\tt2.start() \n",
        "\n",
        "\t# wait until threads finish their job \n",
        "\tt1.join() \n",
        "\tt2.join() \n",
        "\n",
        "for i in range(10):\n",
        "\t\tmain_task()\n",
        "\t\tprint(\"Iteration:\",i,\" x =\",x) \n"
      ],
      "metadata": {
        "colab": {
          "base_uri": "https://localhost:8080/"
        },
        "id": "3BIlAWFf-raI",
        "outputId": "49c60388-7b0d-4cef-d644-922a91d3ee84"
      },
      "execution_count": 5,
      "outputs": [
        {
          "output_type": "stream",
          "name": "stdout",
          "text": [
            "Iteration: 0  x = 200000\n",
            "Iteration: 1  x = 200000\n",
            "Iteration: 2  x = 200000\n",
            "Iteration: 3  x = 200000\n",
            "Iteration: 4  x = 200000\n",
            "Iteration: 5  x = 200000\n",
            "Iteration: 6  x = 200000\n",
            "Iteration: 7  x = 200000\n",
            "Iteration: 8  x = 200000\n",
            "Iteration: 9  x = 200000\n"
          ]
        }
      ]
    }
  ]
}